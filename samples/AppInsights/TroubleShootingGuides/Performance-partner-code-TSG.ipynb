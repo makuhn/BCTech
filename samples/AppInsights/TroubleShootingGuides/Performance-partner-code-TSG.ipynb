{
    "metadata": {
        "kernelspec": {
            "name": "python3",
            "display_name": "Python 3"
        },
        "language_info": {
            "name": "python",
            "version": "3.6.6",
            "mimetype": "text/x-python",
            "codemirror_mode": {
                "name": "ipython",
                "version": 3
            },
            "pygments_lexer": "ipython3",
            "nbconvert_exporter": "python",
            "file_extension": ".py"
        }
    },
    "nbformat_minor": 2,
    "nbformat": 4,
    "cells": [
        {
            "cell_type": "markdown",
            "source": [
                "# Dynamics 365 Business Central Trouble Shooting Guide (TSG) - Performance analysis (partner code issues)\r\n",
                "\r\n",
                "This notebook contains Kusto queries that can help getting to the root cause of a performance issue for an environment. \r\n",
                "\r\n",
                "The notebook highlights issues for object ids in the ranges [50000..99999] and [1 mio..60 mio] and can be used to find performance problems in code in per-tenant extensions or app source extensions.\r\n",
                "\r\n",
                "Each section in the notebook contains links to the performance tuning guide on docs [aka.ms/bcperformance](aka.ms/bcperformance),  links to the documentation of relevant telemetry in [aka.ms/bctelemetry](aka.ms/bctelemetry), as well as Kusto queries that help dive into a specific area (sessions, web service requests, database calls, reports, and page load times).\r\n",
                "\r\n",
                "NB! Some of the signal used in this notebook is only available in newer versions of Business Central, so check the version of your environment if some sections do not return any data. The signal documentation states in which version a given signal was introduced."
            ],
            "metadata": {
                "azdata_cell_guid": "1f608a1d-2436-4b48-80d4-5c4d2f8ca7d0"
            }
        },
        {
            "cell_type": "markdown",
            "source": [
                "## 1. Connect to Application Insights\r\n",
                "First you need to set the notebook Kernel to Python3, load the KQLmagic module (did you install it?) and connect to your Application Insights resource (get appid and appkey from the API access page in the Application Insights portal)"
            ],
            "metadata": {
                "azdata_cell_guid": "f103fae9-cf6d-40f7-9062-11ce50691046"
            }
        },
        {
            "cell_type": "code",
            "source": [
                "# load the KQLmagic module\r\n",
                "%reload_ext Kqlmagic"
            ],
            "metadata": {
                "azdata_cell_guid": "a253fa8e-6ac2-4722-a00a-1c52aedab4ed",
                "tags": []
            },
            "outputs": [],
            "execution_count": 30
        },
        {
            "cell_type": "code",
            "source": [
                "# Connect to the Application Insights API\r\n",
                "%kql appinsights://appid='<add Application ID id from the Application Insights portal (under API access)>';appkey='<add an API key (generate one from the Application Insights portal (under API access))>'"
            ],
            "metadata": {
                "azdata_cell_guid": "1de8537e-0291-45b2-8741-047441208e42"
            },
            "outputs": [
                {
                    "data": {
                        "text/plain": "<IPython.core.display.HTML object>",
                        "text/html": "<html>\n        <head>\n            \n            \n        </head>\n        <body>\n            <div><p style='padding: 10px; color: #b94a48; background-color: #f2dede; border-color: #eed3d7'>KqlError:&nbsp;{&quot;error&quot;:{&quot;message&quot;:&quot;The&nbsp;requested&nbsp;path&nbsp;does&nbsp;not&nbsp;exist&quot;,&quot;code&quot;:&quot;PathNotFoundError&quot;,&quot;correlationId&quot;:&quot;02d9d0ec-b6ab-4bc0-a403-6d712e3424ab&quot;}}</p></div>\n        </body>\n        </html>"
                    },
                    "metadata": {},
                    "output_type": "display_data"
                }
            ],
            "execution_count": 31
        },
        {
            "cell_type": "markdown",
            "source": [
                "## 2. Define filters\r\n",
                "This workbook is designed for troubleshooting a single environment. Please provide values for aadTenantId and environmentName: "
            ],
            "metadata": {
                "azdata_cell_guid": "9ef1220c-d9cc-4552-9297-1428efcafb32"
            }
        },
        {
            "cell_type": "code",
            "source": [
                "aadTenantId = \"<Add AAD tenant id here>\"\r\n",
                "environmentName = \"<add environment name here>\"\r\n",
                "\r\n",
                "# date filters for the analysis\r\n",
                "# use YYYY-MM-DD format for the dates (ISO 8601)\r\n",
                "startDate = \"2020-11-02\"\r\n",
                "endDate = \"2020-11-04\""
            ],
            "metadata": {
                "azdata_cell_guid": "0a0785f7-a85e-4ccf-9020-732e1d4c058a",
                "tags": []
            },
            "outputs": [],
            "execution_count": 32
        },
        {
            "cell_type": "markdown",
            "source": [
                "# Analyze performance\r\n",
                "Now you can run Kusto queries to look for possible root causes for performance issues.\r\n",
                "\r\n",
                "Either click **Run All** above to run all sections, or scroll down to the type of analysis you want to do and manually run queries"
            ],
            "metadata": {
                "azdata_cell_guid": "5f9b698d-8a7e-4757-b27d-02f219d6c589"
            }
        },
        {
            "cell_type": "markdown",
            "source": [
                "## Web service requests\r\n",
                "\r\n",
                "Performance tuning guide: https://docs.microsoft.com/en-us/dynamics365/business-central/dev-itpro/performance/performance-developer#writing-efficient-web-services\r\n",
                "\r\n",
                "Web service telemetry docs: https://docs.microsoft.com/en-us/dynamics365/business-central/dev-itpro/administration/telemetry-webservices-trace\r\n",
                "\r\n",
                "KQL samples: https://github.com/microsoft/BCTech/blob/master/samples/AppInsights/KQL/RawData/WebServiceCalls.kql"
            ],
            "metadata": {
                "azdata_cell_guid": "2f9c2d0d-df3c-482b-af58-48416a517117"
            }
        },
        {
            "cell_type": "code",
            "source": [
                "%%kql\r\n",
                "let _aadTenantId = aadTenantId;\r\n",
                "let _environmentName = environmentName;\r\n",
                "let _startDate = startDate;\r\n",
                "let _endDate = endDate;\r\n",
                "traces\r\n",
                "| where 1==1 \r\n",
                "    and timestamp >= todatetime(_startDate)\r\n",
                "    and timestamp <= todatetime(_endDate) + totimespan(24h) - totimespan(1ms)   \r\n",
                "    and customDimensions.aadTenantId == _aadTenantId\r\n",
                "    and customDimensions.environmentName == _environmentName\r\n",
                "    and customDimensions.eventId == 'RT0006'\r\n",
                "| extend alObjectId = toint(customDimensions.alObjectId)\r\n",
                "| where alObjectId between (50000 .. 99999) or alObjectId between (1000000 .. 74999999)\r\n",
                "| extend category = tostring( customDimensions.category )\r\n",
                "| extend codeOwnership = case(\r\n",
                "      alObjectId between (50000 .. 99999), 'ENVIRONMENT'\r\n",
                "    , alObjectId between (1000000 .. 69999999), 'ISV_ONPREM'\r\n",
                "    , alObjectId between (70000000 .. 74999999), 'ISV_ONLINE'\r\n",
                "    , 'MICROSOFT'\r\n",
                ")\r\n",
                "| summarize request_count=count() by category, bin(timestamp, 1d)\r\n",
                "| render timechart title= 'Number of web service requests by category endpoints (in partner code)'"
            ],
            "metadata": {
                "azdata_cell_guid": "a9e923e9-1d05-4acf-a230-4c5142bc3582",
                "tags": []
            },
            "outputs": [
                {
                    "data": {
                        "text/plain": "<IPython.core.display.HTML object>",
                        "text/html": "<html>\n        <head>\n            \n            \n        </head>\n        <body>\n            <div><p style='padding: 10px; color: #3a87ad; background-color: #d9edf7; border-color: #bce9f1'>&nbsp;&nbsp;&nbsp;962fbf96-f15e-4d37-8f91-13cae96f4b3e@applicationinsights<br>&nbsp;*&nbsp;add_Application_ID_id_from_the_Application_Insights_portal_under_API_access@applicationinsights</p></div>\n        </body>\n        </html>"
                    },
                    "metadata": {},
                    "output_type": "display_data"
                },
                {
                    "data": {
                        "text/plain": "<IPython.core.display.HTML object>",
                        "text/html": "<html>\n        <head>\n            \n            \n        </head>\n        <body>\n            <div><p style='padding: 10px; color: #b94a48; background-color: #f2dede; border-color: #eed3d7'>KqlError:&nbsp;{&quot;error&quot;:{&quot;message&quot;:&quot;The&nbsp;requested&nbsp;path&nbsp;does&nbsp;not&nbsp;exist&quot;,&quot;code&quot;:&quot;PathNotFoundError&quot;,&quot;correlationId&quot;:&quot;5fec499a-f2a7-4ecf-aea3-792e795b0efd&quot;}}</p></div>\n        </body>\n        </html>"
                    },
                    "metadata": {},
                    "output_type": "display_data"
                }
            ],
            "execution_count": 33
        },
        {
            "cell_type": "code",
            "source": [
                "%%kql\r\n",
                "let _aadTenantId = aadTenantId;\r\n",
                "let _environmentName = environmentName;\r\n",
                "let _startDate = startDate;\r\n",
                "let _endDate = endDate;\r\n",
                "traces\r\n",
                "| where 1==1 \r\n",
                "    and timestamp >= todatetime(_startDate)\r\n",
                "    and timestamp <= todatetime(_endDate) + totimespan(24h) - totimespan(1ms)   \r\n",
                "    and customDimensions.aadTenantId == _aadTenantId\r\n",
                "    and customDimensions.environmentName == _environmentName\r\n",
                "    and customDimensions.eventId == 'RT0008'\r\n",
                "| extend alObjectId = toint(customDimensions.alObjectId)\r\n",
                "| where alObjectId between (50000 .. 99999) or alObjectId between (1000000 .. 74999999)\r\n",
                "| extend category = tostring( customDimensions.category )\r\n",
                "       , executionTimeInMS = toreal(totimespan(customDimensions.serverExecutionTime))/10000 //the datatype for executionTime is timespan \r\n",
                "| extend codeOwnership = case(\r\n",
                "      alObjectId between (50000 .. 99999), 'ENVIRONMENT'\r\n",
                "    , alObjectId between (1000000 .. 69999999), 'ISV_ONPREM'\r\n",
                "    , alObjectId between (70000000 .. 74999999), 'ISV_ONLINE'\r\n",
                "    , 'MICROSOFT'\r\n",
                ")\r\n",
                "| where executionTimeInMS <= 10000 // only include ws calls with execution time <= 10 sec\r\n",
                "| summarize count() by executionTime_ms = bin(executionTimeInMS, 100), category\r\n",
                "| extend log_count = log10(count_)\r\n",
                "| order by category, executionTime_ms asc\r\n",
                "| render columnchart with  (ycolumns = log_count, ytitle='Log10(count)', series = category, title= 'Execution time (in ms) of normal web service requests by category (in partner code)' ) "
            ],
            "metadata": {
                "azdata_cell_guid": "e4e56e1a-ab5d-427a-bc49-747e6ae34a75"
            },
            "outputs": [
                {
                    "data": {
                        "text/plain": "<IPython.core.display.HTML object>",
                        "text/html": "<html>\n        <head>\n            \n            \n        </head>\n        <body>\n            <div><p style='padding: 10px; color: #3a87ad; background-color: #d9edf7; border-color: #bce9f1'>&nbsp;&nbsp;&nbsp;962fbf96-f15e-4d37-8f91-13cae96f4b3e@applicationinsights<br>&nbsp;*&nbsp;add_Application_ID_id_from_the_Application_Insights_portal_under_API_access@applicationinsights</p></div>\n        </body>\n        </html>"
                    },
                    "metadata": {},
                    "output_type": "display_data"
                },
                {
                    "data": {
                        "text/plain": "<IPython.core.display.HTML object>",
                        "text/html": "<html>\n        <head>\n            \n            \n        </head>\n        <body>\n            <div><p style='padding: 10px; color: #b94a48; background-color: #f2dede; border-color: #eed3d7'>KqlError:&nbsp;{&quot;error&quot;:{&quot;message&quot;:&quot;The&nbsp;requested&nbsp;path&nbsp;does&nbsp;not&nbsp;exist&quot;,&quot;code&quot;:&quot;PathNotFoundError&quot;,&quot;correlationId&quot;:&quot;b9dd685d-d28d-4fd5-825e-f83c9d9546e9&quot;}}</p></div>\n        </body>\n        </html>"
                    },
                    "metadata": {},
                    "output_type": "display_data"
                }
            ],
            "execution_count": 34
        },
        {
            "cell_type": "code",
            "source": [
                "%%kql\r\n",
                "let _aadTenantId = aadTenantId;\r\n",
                "let _environmentName = environmentName;\r\n",
                "let _startDate = startDate;\r\n",
                "let _endDate = endDate;\r\n",
                "traces\r\n",
                "| where 1==1 \r\n",
                "    and timestamp >= todatetime(_startDate)\r\n",
                "    and timestamp <= todatetime(_endDate) + totimespan(24h) - totimespan(1ms)   \r\n",
                "    and customDimensions.aadTenantId == _aadTenantId\r\n",
                "    and customDimensions.environmentName == _environmentName\r\n",
                "    and customDimensions.eventId == 'RT0008'\r\n",
                "| extend alObjectId = toint(customDimensions.alObjectId)\r\n",
                "| where alObjectId between (50000 .. 99999) or alObjectId between (1000000 .. 74999999)\r\n",
                "| extend category = tostring( customDimensions.category )\r\n",
                "       , executionTimeInSec = toreal(totimespan(customDimensions.serverExecutionTime))/10000 /1000 //the datatype for executionTime is timespan \r\n",
                "| extend codeOwnership = case(\r\n",
                "      alObjectId between (50000 .. 99999), 'ENVIRONMENT'\r\n",
                "    , alObjectId between (1000000 .. 69999999), 'ISV_ONPREM'\r\n",
                "    , alObjectId between (70000000 .. 74999999), 'ISV_ONLINE'\r\n",
                "    , 'MICROSOFT'\r\n",
                ")\r\n",
                "| where executionTimeInSec > 10 // only include ws calls with execution time > 10 sec\r\n",
                "| summarize count() by executionTime_sec = bin(executionTimeInSec, 10), category\r\n",
                "| extend log_count = log10(count_)\r\n",
                "| order by category, executionTime_sec asc\r\n",
                "| render columnchart with  (ycolumns = log_count, ytitle='log10(count)', series = category, title= 'Execution time (in sec) of slow web service requests by category (in partner code)' ) "
            ],
            "metadata": {
                "azdata_cell_guid": "d2045846-702e-4d8f-9836-3df55405c404"
            },
            "outputs": [
                {
                    "data": {
                        "text/plain": "<IPython.core.display.HTML object>",
                        "text/html": "<html>\n        <head>\n            \n            \n        </head>\n        <body>\n            <div><p style='padding: 10px; color: #3a87ad; background-color: #d9edf7; border-color: #bce9f1'>&nbsp;&nbsp;&nbsp;962fbf96-f15e-4d37-8f91-13cae96f4b3e@applicationinsights<br>&nbsp;*&nbsp;add_Application_ID_id_from_the_Application_Insights_portal_under_API_access@applicationinsights</p></div>\n        </body>\n        </html>"
                    },
                    "metadata": {},
                    "output_type": "display_data"
                },
                {
                    "data": {
                        "text/plain": "<IPython.core.display.HTML object>",
                        "text/html": "<html>\n        <head>\n            \n            \n        </head>\n        <body>\n            <div><p style='padding: 10px; color: #b94a48; background-color: #f2dede; border-color: #eed3d7'>KqlError:&nbsp;{&quot;error&quot;:{&quot;message&quot;:&quot;The&nbsp;requested&nbsp;path&nbsp;does&nbsp;not&nbsp;exist&quot;,&quot;code&quot;:&quot;PathNotFoundError&quot;,&quot;correlationId&quot;:&quot;e8e4a2a0-f9ff-4597-b7d0-7432c5d9a817&quot;}}</p></div>\n        </body>\n        </html>"
                    },
                    "metadata": {},
                    "output_type": "display_data"
                }
            ],
            "execution_count": 35
        },
        {
            "cell_type": "code",
            "source": [
                "%%kql\r\n",
                "// \r\n",
                "// top 20 most expensive web service calls (partner code)\r\n",
                "// \r\n",
                "let _aadTenantId = aadTenantId;\r\n",
                "let _environmentName = environmentName;\r\n",
                "let _startDate = startDate;\r\n",
                "let _endDate = endDate;\r\n",
                "traces\r\n",
                "| where 1==1 \r\n",
                "    and timestamp >= todatetime(_startDate)\r\n",
                "    and timestamp <= todatetime(_endDate) + totimespan(24h) - totimespan(1ms)   \r\n",
                "    and customDimensions.aadTenantId == _aadTenantId\r\n",
                "    and customDimensions.environmentName == _environmentName\r\n",
                "    and customDimensions.eventId == 'RT0008'\r\n",
                "| extend alObjectId = toint(customDimensions.alObjectId)\r\n",
                "| where alObjectId between (50000 .. 99999) or alObjectId between (1000000 .. 74999999)\r\n",
                "| extend category = tostring( customDimensions.category )\r\n",
                "       , endpoint = tostring( customDimensions.endpoint )\r\n",
                "       , executionTimeInMS = toreal(totimespan(customDimensions.serverExecutionTime))/10000 //the datatype for executionTime is timespan \r\n",
                "| extend codeOwnership = case(\r\n",
                "      alObjectId between (50000 .. 99999), 'ENVIRONMENT'\r\n",
                "    , alObjectId between (1000000 .. 69999999), 'ISV_ONPREM'\r\n",
                "    , alObjectId between (70000000 .. 74999999), 'ISV_ONLINE'\r\n",
                "    , 'MICROSOFT'\r\n",
                ")\r\n",
                "| summarize count=count(), medianExecutionTimeInMS=percentile(executionTimeInMS, 50) by alObjectId, category, endpoint\r\n",
                "| order by medianExecutionTimeInMS desc\r\n",
                "| limit 20"
            ],
            "metadata": {
                "azdata_cell_guid": "e7a06658-0325-433a-94ff-3ab5c0a2eb67"
            },
            "outputs": [
                {
                    "data": {
                        "text/plain": "<IPython.core.display.HTML object>",
                        "text/html": "<html>\n        <head>\n            \n            \n        </head>\n        <body>\n            <div><p style='padding: 10px; color: #3a87ad; background-color: #d9edf7; border-color: #bce9f1'>&nbsp;&nbsp;&nbsp;962fbf96-f15e-4d37-8f91-13cae96f4b3e@applicationinsights<br>&nbsp;*&nbsp;add_Application_ID_id_from_the_Application_Insights_portal_under_API_access@applicationinsights</p></div>\n        </body>\n        </html>"
                    },
                    "metadata": {},
                    "output_type": "display_data"
                },
                {
                    "data": {
                        "text/plain": "<IPython.core.display.HTML object>",
                        "text/html": "<html>\n        <head>\n            \n            \n        </head>\n        <body>\n            <div><p style='padding: 10px; color: #b94a48; background-color: #f2dede; border-color: #eed3d7'>KqlError:&nbsp;{&quot;error&quot;:{&quot;message&quot;:&quot;The&nbsp;requested&nbsp;path&nbsp;does&nbsp;not&nbsp;exist&quot;,&quot;code&quot;:&quot;PathNotFoundError&quot;,&quot;correlationId&quot;:&quot;f9146c7f-296e-434d-b363-41b6339f7eef&quot;}}</p></div>\n        </body>\n        </html>"
                    },
                    "metadata": {},
                    "output_type": "display_data"
                }
            ],
            "execution_count": 36
        },
        {
            "cell_type": "markdown",
            "source": [
                "## (Outgoing) web service requests overview \n",
                "\n",
                "Performance tuning guide: [https://docs.microsoft.com/en-us/dynamics365/business-central/dev-itpro/performance/performance-developer#web-service-client-performance](https://docs.microsoft.com/en-us/dynamics365/business-central/dev-itpro/performance/performance-developer#writing-efficient-web-services)\n",
                "\n",
                "Outgoing Web service telemetry docs: [https://docs.microsoft.com/en-us/dynamics365/business-central/dev-itpro/administration/telemetry-webservices-outgoing-trace](https://docs.microsoft.com/en-us/dynamics365/business-central/dev-itpro/administration/telemetry-webservices-outgoing-trace) \n",
                "\n",
                "KQL sample: [https://github.com/microsoft/BCTech/blob/master/samples/AppInsights/KQL/RawData/OutGoingWebServiceCalls.kql](https://github.com/microsoft/BCTech/blob/master/samples/AppInsights/KQL/RawData/OutGoingWebServiceCalls.kql)\n",
                "\n",
                "Explanation of different HTTP status codes: [https://en.wikipedia.org/wiki/List_of_HTTP_status_codes](https://en.wikipedia.org/wiki/List_of_HTTP_status_codes)"
            ],
            "metadata": {
                "azdata_cell_guid": "adb3d2f9-5e04-490e-994d-a713e26599cf"
            }
        },
        {
            "cell_type": "code",
            "source": [
                "%%kql\r\n",
                "let _aadTenantId = aadTenantId;\r\n",
                "let _environmentName = environmentName;\r\n",
                "let _startDate = startDate;\r\n",
                "let _endDate = endDate;\r\n",
                "traces\r\n",
                "| where 1==1 \r\n",
                "    and timestamp >= todatetime(_startDate)\r\n",
                "    and timestamp <= todatetime(_endDate) + totimespan(24h) - totimespan(1ms)    \r\n",
                "    and customDimensions.aadTenantId == _aadTenantId\r\n",
                "    and customDimensions.environmentName == _environmentName\r\n",
                "    and customDimensions.eventId == 'RT0019'\r\n",
                "| extend alObjectId = toint(customDimensions.alObjectId)    \r\n",
                "| where alObjectId between (50000 .. 99999) or alObjectId between (1000000 .. 74999999)\r\n",
                "| extend httpStatusCode = tostring( customDimensions.httpReturnCode )\r\n",
                "| extend codeOwnership = case(\r\n",
                "      alObjectId between (50000 .. 99999), 'ENVIRONMENT'\r\n",
                "    , alObjectId between (1000000 .. 69999999), 'ISV_ONPREM'\r\n",
                "    , alObjectId between (70000000 .. 74999999), 'ISV_ONLINE'\r\n",
                "    , 'MICROSOFT'\r\n",
                ")\r\n",
                "| summarize request_count=count() by httpStatusCode, bin(timestamp, 1d)\r\n",
                "| order by httpStatusCode asc\r\n",
                "| render timechart title= 'Number of outgoing web service requests by HTTP status code (partner code)'"
            ],
            "metadata": {
                "azdata_cell_guid": "fcc199b3-9dea-46b1-ab7b-8b578528b4d1"
            },
            "outputs": [
                {
                    "data": {
                        "text/plain": "<IPython.core.display.HTML object>",
                        "text/html": "<html>\n        <head>\n            \n            \n        </head>\n        <body>\n            <div><p style='padding: 10px; color: #3a87ad; background-color: #d9edf7; border-color: #bce9f1'>&nbsp;&nbsp;&nbsp;962fbf96-f15e-4d37-8f91-13cae96f4b3e@applicationinsights<br>&nbsp;*&nbsp;add_Application_ID_id_from_the_Application_Insights_portal_under_API_access@applicationinsights</p></div>\n        </body>\n        </html>"
                    },
                    "metadata": {},
                    "output_type": "display_data"
                },
                {
                    "data": {
                        "text/plain": "<IPython.core.display.HTML object>",
                        "text/html": "<html>\n        <head>\n            \n            \n        </head>\n        <body>\n            <div><p style='padding: 10px; color: #b94a48; background-color: #f2dede; border-color: #eed3d7'>KqlError:&nbsp;{&quot;error&quot;:{&quot;message&quot;:&quot;The&nbsp;requested&nbsp;path&nbsp;does&nbsp;not&nbsp;exist&quot;,&quot;code&quot;:&quot;PathNotFoundError&quot;,&quot;correlationId&quot;:&quot;c578cd0d-8e60-42a9-b65c-37759813a554&quot;}}</p></div>\n        </body>\n        </html>"
                    },
                    "metadata": {},
                    "output_type": "display_data"
                }
            ],
            "execution_count": 37
        },
        {
            "cell_type": "code",
            "source": [
                "%%kql\r\n",
                "let _aadTenantId = aadTenantId;\r\n",
                "let _environmentName = environmentName;\r\n",
                "let _startDate = startDate;\r\n",
                "let _endDate = endDate;\r\n",
                "traces\r\n",
                "| where 1==1 \r\n",
                "    and timestamp >= todatetime(_startDate)\r\n",
                "    and timestamp <= todatetime(_endDate) + totimespan(24h) - totimespan(1ms)        \r\n",
                "    and customDimensions.aadTenantId == _aadTenantId\r\n",
                "    and customDimensions.environmentName == _environmentName\r\n",
                "    and customDimensions.eventId == 'RT0019'\r\n",
                "| extend httpMethod = tostring( toupper( customDimensions.httpMethod ) )\r\n",
                "       , executionTimeInSec = toreal(totimespan(customDimensions.serverExecutionTime))/10000 /1000 //the datatype for executionTime is timespan \r\n",
                "| extend alObjectId = toint(customDimensions.alObjectId)    \r\n",
                "| where alObjectId between (50000 .. 99999) or alObjectId between (1000000 .. 74999999)\r\n",
                "| extend httpStatusCode = tostring( customDimensions.httpReturnCode )\r\n",
                "| extend codeOwnership = case(\r\n",
                "      alObjectId between (50000 .. 99999), 'ENVIRONMENT'\r\n",
                "    , alObjectId between (1000000 .. 69999999), 'ISV_ONPREM'\r\n",
                "    , alObjectId between (70000000 .. 74999999), 'ISV_ONLINE'\r\n",
                "    , 'MICROSOFT'\r\n",
                ")\r\n",
                "| where executionTimeInSec <= 10\r\n",
                "| summarize count() by executionTime_sec = bin(executionTimeInSec, 1), httpMethod\r\n",
                "| extend log_count = log10( count_ )\r\n",
                "| order by httpMethod, executionTime_sec asc\r\n",
                "| render columnchart with  (ycolumns = log_count, ytitle='log(count)', series = httpMethod, title= 'Execution time (seconds) of \"normal\" outgoing ws requests by method' ) \r\n",
                ""
            ],
            "metadata": {
                "azdata_cell_guid": "3e6e498d-29d5-4f9c-83c7-f0fd4345279a"
            },
            "outputs": [
                {
                    "data": {
                        "text/plain": "<IPython.core.display.HTML object>",
                        "text/html": "<html>\n        <head>\n            \n            \n        </head>\n        <body>\n            <div><p style='padding: 10px; color: #3a87ad; background-color: #d9edf7; border-color: #bce9f1'>&nbsp;&nbsp;&nbsp;962fbf96-f15e-4d37-8f91-13cae96f4b3e@applicationinsights<br>&nbsp;*&nbsp;add_Application_ID_id_from_the_Application_Insights_portal_under_API_access@applicationinsights</p></div>\n        </body>\n        </html>"
                    },
                    "metadata": {},
                    "output_type": "display_data"
                },
                {
                    "data": {
                        "text/plain": "<IPython.core.display.HTML object>",
                        "text/html": "<html>\n        <head>\n            \n            \n        </head>\n        <body>\n            <div><p style='padding: 10px; color: #b94a48; background-color: #f2dede; border-color: #eed3d7'>KqlError:&nbsp;{&quot;error&quot;:{&quot;message&quot;:&quot;The&nbsp;requested&nbsp;path&nbsp;does&nbsp;not&nbsp;exist&quot;,&quot;code&quot;:&quot;PathNotFoundError&quot;,&quot;correlationId&quot;:&quot;25b23635-62c5-42fc-8345-0a2b0bd8061e&quot;}}</p></div>\n        </body>\n        </html>"
                    },
                    "metadata": {},
                    "output_type": "display_data"
                }
            ],
            "execution_count": 38
        },
        {
            "cell_type": "code",
            "source": [
                "%%kql\r\n",
                "let _aadTenantId = aadTenantId;\r\n",
                "let _environmentName = environmentName;\r\n",
                "let _startDate = startDate;\r\n",
                "let _endDate = endDate;\r\n",
                "traces\r\n",
                "| where 1==1 \r\n",
                "    and timestamp >= todatetime(_startDate)\r\n",
                "    and timestamp <= todatetime(_endDate) + totimespan(24h) - totimespan(1ms)        \r\n",
                "    and customDimensions.aadTenantId == _aadTenantId\r\n",
                "    and customDimensions.environmentName == _environmentName\r\n",
                "    and customDimensions.eventId == 'RT0019'\r\n",
                "| extend httpMethod = tostring( toupper( customDimensions.httpMethod ) )\r\n",
                "       , executionTimeInSec = toreal(totimespan(customDimensions.serverExecutionTime))/10000 /1000 //the datatype for executionTime is timespan \r\n",
                "| extend alObjectId = toint(customDimensions.alObjectId)    \r\n",
                "| where alObjectId between (50000 .. 99999) or alObjectId between (1000000 .. 74999999)\r\n",
                "| extend httpStatusCode = tostring( customDimensions.httpReturnCode )\r\n",
                "| extend codeOwnership = case(\r\n",
                "      alObjectId between (50000 .. 99999), 'ENVIRONMENT'\r\n",
                "    , alObjectId between (1000000 .. 69999999), 'ISV_ONPREM'\r\n",
                "    , alObjectId between (70000000 .. 74999999), 'ISV_ONLINE'\r\n",
                "    , 'MICROSOFT'\r\n",
                ")\r\n",
                "| where executionTimeInSec > 10\r\n",
                "| summarize count() by executionTime_sec = bin(executionTimeInSec, 10), httpMethod\r\n",
                "| extend log_count = log10( count_ )\r\n",
                "| order by httpMethod, executionTime_sec asc\r\n",
                "| render columnchart with  (ycolumns = log_count, ytitle='log10(count)', series = httpMethod, title= 'Execution time (seconds) of slow outgoing ws requests by method' ) \r\n",
                ""
            ],
            "metadata": {
                "azdata_cell_guid": "a28e20fe-952e-45de-ae1f-fc9651502d64"
            },
            "outputs": [
                {
                    "data": {
                        "text/plain": "<IPython.core.display.HTML object>",
                        "text/html": "<html>\n        <head>\n            \n            \n        </head>\n        <body>\n            <div><p style='padding: 10px; color: #3a87ad; background-color: #d9edf7; border-color: #bce9f1'>&nbsp;&nbsp;&nbsp;962fbf96-f15e-4d37-8f91-13cae96f4b3e@applicationinsights<br>&nbsp;*&nbsp;add_Application_ID_id_from_the_Application_Insights_portal_under_API_access@applicationinsights</p></div>\n        </body>\n        </html>"
                    },
                    "metadata": {},
                    "output_type": "display_data"
                },
                {
                    "data": {
                        "text/plain": "<IPython.core.display.HTML object>",
                        "text/html": "<html>\n        <head>\n            \n            \n        </head>\n        <body>\n            <div><p style='padding: 10px; color: #b94a48; background-color: #f2dede; border-color: #eed3d7'>KqlError:&nbsp;{&quot;error&quot;:{&quot;message&quot;:&quot;The&nbsp;requested&nbsp;path&nbsp;does&nbsp;not&nbsp;exist&quot;,&quot;code&quot;:&quot;PathNotFoundError&quot;,&quot;correlationId&quot;:&quot;21a29408-1aed-4978-bc00-9874a670e202&quot;}}</p></div>\n        </body>\n        </html>"
                    },
                    "metadata": {},
                    "output_type": "display_data"
                }
            ],
            "execution_count": 39
        },
        {
            "cell_type": "code",
            "source": [
                "%%kql\r\n",
                "//\r\n",
                "// Top 20 most expensive outgoing calls\r\n",
                "//\r\n",
                "// Includes descriptive statistics avg, min, max, and 95 percentile for execution time and number of calls\r\n",
                "//\r\n",
                "let _aadTenantId = aadTenantId;\r\n",
                "let _environmentName = environmentName;\r\n",
                "let _startDate = startDate;\r\n",
                "let _endDate = endDate;\r\n",
                "traces\r\n",
                "| where 1==1 \r\n",
                "    and timestamp >= todatetime(_startDate)\r\n",
                "    and timestamp <= todatetime(_endDate) + totimespan(24h) - totimespan(1ms)    \r\n",
                "    and customDimensions.aadTenantId == _aadTenantId\r\n",
                "    and customDimensions.environmentName == _environmentName\r\n",
                "    and customDimensions.eventId == 'RT0019'\r\n",
                "| extend httpMethod = tostring( toupper( customDimensions.httpMethod ) )\r\n",
                "       , executionTimeInMS = toreal(totimespan(customDimensions.serverExecutionTime))/10000 //the datatype for executionTime is timespan \r\n",
                "       , alObjectId = tostring( customDimensions.alObjectId )\r\n",
                "       , alObjectName = tostring( customDimensions.alObjectName )\r\n",
                "       , alObjectType = tostring( customDimensions.alObjectType )\r\n",
                ", endpoint = tostring( customDimensions.endpoint )\r\n",
                ", extensionId = tostring( customDimensions.extensionId )\r\n",
                ", extensionName = tostring( customDimensions.extensionName )\r\n",
                ", extensionVersion = tostring( customDimensions.extensionVersion )\r\n",
                "| extend alObjectId = toint(customDimensions.alObjectId)    \r\n",
                "| where alObjectId between (50000 .. 99999) or alObjectId between (1000000 .. 74999999)\r\n",
                "| extend httpStatusCode = tostring( customDimensions.httpReturnCode )\r\n",
                "| extend codeOwnership = case(\r\n",
                "      alObjectId between (50000 .. 99999), 'ENVIRONMENT'\r\n",
                "    , alObjectId between (1000000 .. 69999999), 'ISV_ONPREM'\r\n",
                "    , alObjectId between (70000000 .. 74999999), 'ISV_ONLINE'\r\n",
                "    , 'MICROSOFT'\r\n",
                ")\r\n",
                "| summarize avg(executionTimeInMS), min(executionTimeInMS), max(executionTimeInMS),percentile(executionTimeInMS,95), count() by \r\n",
                "  httpMethod\r\n",
                ", alObjectId, alObjectName, alObjectType, codeOwnership\r\n",
                ", extensionId, extensionName, extensionVersion\r\n",
                ", endpoint\r\n",
                "| order by avg_executionTimeInMS desc\r\n",
                "| project avg_timeInSec=round(avg_executionTimeInMS/1000,2)\r\n",
                ", min_timeInSec=round(min_executionTimeInMS/1000,2)\r\n",
                ", max_timeInSec=round(max_executionTimeInMS/1000,2)\r\n",
                ", perc_95InSec=round(percentile_executionTimeInMS_95/1000,2), count_\r\n",
                ", alObjectId, alObjectName, alObjectType, codeOwnership\r\n",
                ", extensionId, extensionName, extensionVersion, httpMethod, endpoint\r\n",
                "| limit 20"
            ],
            "metadata": {
                "azdata_cell_guid": "5e3ced4d-acd0-41f7-8ba9-a82af662dd1a"
            },
            "outputs": [
                {
                    "data": {
                        "text/plain": "<IPython.core.display.HTML object>",
                        "text/html": "<html>\n        <head>\n            \n            \n        </head>\n        <body>\n            <div><p style='padding: 10px; color: #3a87ad; background-color: #d9edf7; border-color: #bce9f1'>&nbsp;&nbsp;&nbsp;962fbf96-f15e-4d37-8f91-13cae96f4b3e@applicationinsights<br>&nbsp;*&nbsp;add_Application_ID_id_from_the_Application_Insights_portal_under_API_access@applicationinsights</p></div>\n        </body>\n        </html>"
                    },
                    "metadata": {},
                    "output_type": "display_data"
                },
                {
                    "data": {
                        "text/plain": "<IPython.core.display.HTML object>",
                        "text/html": "<html>\n        <head>\n            \n            \n        </head>\n        <body>\n            <div><p style='padding: 10px; color: #b94a48; background-color: #f2dede; border-color: #eed3d7'>KqlError:&nbsp;{&quot;error&quot;:{&quot;message&quot;:&quot;The&nbsp;requested&nbsp;path&nbsp;does&nbsp;not&nbsp;exist&quot;,&quot;code&quot;:&quot;PathNotFoundError&quot;,&quot;correlationId&quot;:&quot;d0d634f3-9e48-4422-a624-bbd2b67511ce&quot;}}</p></div>\n        </body>\n        </html>"
                    },
                    "metadata": {},
                    "output_type": "display_data"
                }
            ],
            "execution_count": 40
        },
        {
            "cell_type": "markdown",
            "source": [
                "## Data related\r\n",
                "\r\n",
                "Performance tuning guide: \r\n",
                "* [Efficient data access](https://docs.microsoft.com/en-us/dynamics365/business-central/dev-itpro/performance/performance-developer#efficient-data-access)\r\n",
                "* [Avoid locking](https://docs.microsoft.com/en-us/dynamics365/business-central/dev-itpro/performance/performance-application#avoid-locking)\r\n",
                "\r\n",
                "Database telemetry docs: \r\n",
                "* https://docs.microsoft.com/en-us/dynamics365/business-central/dev-itpro/administration/telemetry-long-running-sql-query-trace\r\n",
                "* https://docs.microsoft.com/en-us/dynamics365/business-central/dev-itpro/administration/telemetry-database-locks-trace\r\n",
                "\r\n",
                "KQL samples:\r\n",
                "* https://github.com/microsoft/BCTech/blob/master/samples/AppInsights/KQL/RawData/Long%20Running%20SQL%20Queries.kql\r\n",
                "* https://github.com/microsoft/BCTech/blob/master/samples/AppInsights/KQL/RawData/LockTimeouts.kql\r\n",
                ""
            ],
            "metadata": {
                "azdata_cell_guid": "2f7e604a-0d02-484e-9bcb-a6aa148d5f0b"
            }
        },
        {
            "cell_type": "code",
            "source": [
                "%%kql\r\n",
                "let _aadTenantId = aadTenantId;\r\n",
                "let _environmentName = environmentName;\r\n",
                "let _startDate = startDate;\r\n",
                "let _endDate = endDate;\r\n",
                "traces\r\n",
                "| where 1==1 \r\n",
                "    and timestamp >= todatetime(_startDate)\r\n",
                "    and timestamp <= todatetime(_endDate) + totimespan(24h) - totimespan(1ms)   \r\n",
                "    and customDimensions.aadTenantId == _aadTenantId\r\n",
                "    and customDimensions.environmentName == _environmentName\r\n",
                "    and customDimensions.eventId == 'RT0005'\r\n",
                "| extend alObjectId = toint(customDimensions.alObjectId)\r\n",
                "| where alObjectId between (50000 .. 99999) or alObjectId between (1000000 .. 74999999)\r\n",
                "| extend codeOwnership = case(\r\n",
                "      alObjectId between (50000 .. 99999), 'ENVIRONMENT'\r\n",
                "    , alObjectId between (1000000 .. 69999999), 'ISV_ONPREM'\r\n",
                "    , alObjectId between (70000000 .. 74999999), 'ISV_ONLINE'\r\n",
                "    , 'MICROSOFT'\r\n",
                ")\r\n",
                "| summarize count() by bin(timestamp, 1d)\r\n",
                "| render timechart title= 'Number of long running SQL queries (in partner code)'"
            ],
            "metadata": {
                "azdata_cell_guid": "9ec9b678-7d66-4758-9101-4e9e5025dfcf",
                "tags": []
            },
            "outputs": [
                {
                    "data": {
                        "text/plain": "<IPython.core.display.HTML object>",
                        "text/html": "<html>\n        <head>\n            \n            \n        </head>\n        <body>\n            <div><p style='padding: 10px; color: #3a87ad; background-color: #d9edf7; border-color: #bce9f1'>&nbsp;&nbsp;&nbsp;962fbf96-f15e-4d37-8f91-13cae96f4b3e@applicationinsights<br>&nbsp;*&nbsp;add_Application_ID_id_from_the_Application_Insights_portal_under_API_access@applicationinsights</p></div>\n        </body>\n        </html>"
                    },
                    "metadata": {},
                    "output_type": "display_data"
                },
                {
                    "data": {
                        "text/plain": "<IPython.core.display.HTML object>",
                        "text/html": "<html>\n        <head>\n            \n            \n        </head>\n        <body>\n            <div><p style='padding: 10px; color: #b94a48; background-color: #f2dede; border-color: #eed3d7'>KqlError:&nbsp;{&quot;error&quot;:{&quot;message&quot;:&quot;The&nbsp;requested&nbsp;path&nbsp;does&nbsp;not&nbsp;exist&quot;,&quot;code&quot;:&quot;PathNotFoundError&quot;,&quot;correlationId&quot;:&quot;16b0e45f-c173-42ee-bbd3-ffb905b00e4d&quot;}}</p></div>\n        </body>\n        </html>"
                    },
                    "metadata": {},
                    "output_type": "display_data"
                }
            ],
            "execution_count": 41
        },
        {
            "cell_type": "code",
            "source": [
                "%%kql\r\n",
                "// \r\n",
                "// top 20 most expensive long running sql queries (in partner code)\r\n",
                "// \r\n",
                "let _aadTenantId = aadTenantId;\r\n",
                "let _environmentName = environmentName;\r\n",
                "let _startDate = startDate;\r\n",
                "let _endDate = endDate;\r\n",
                "traces\r\n",
                "| where 1==1 \r\n",
                "    and timestamp >= todatetime(_startDate)\r\n",
                "    and timestamp <= todatetime(_endDate) + totimespan(24h) - totimespan(1ms)   \r\n",
                "    and customDimensions.aadTenantId == _aadTenantId\r\n",
                "    and customDimensions.environmentName == _environmentName\r\n",
                "    and customDimensions.eventId == 'RT0005'\r\n",
                "| extend alObjectId = toint(customDimensions.alObjectId)\r\n",
                "       , alObjectName = toint(customDimensions.alObject)\r\n",
                "       , executionTimeInMS = toreal(totimespan(customDimensions.executionTime))/10000 //the datatype for executionTime is timespan \r\n",
                "| where alObjectId between (50000 .. 99999) or alObjectId between (1000000 .. 74999999)\r\n",
                "| extend codeOwnership = case(\r\n",
                "      alObjectId between (50000 .. 99999), 'ENVIRONMENT'\r\n",
                "    , alObjectId between (1000000 .. 69999999), 'ISV_ONPREM'\r\n",
                "    , alObjectId between (70000000 .. 74999999), 'ISV_ONLINE'\r\n",
                "    , 'MICROSOFT'\r\n",
                ")\r\n",
                "| summarize count(), avg(executionTimeInMS) by alObjectId\r\n",
                "| limit 20"
            ],
            "metadata": {
                "azdata_cell_guid": "36d2980d-2d0a-4066-957f-7648fe1b240b"
            },
            "outputs": [
                {
                    "data": {
                        "text/plain": "<IPython.core.display.HTML object>",
                        "text/html": "<html>\n        <head>\n            \n            \n        </head>\n        <body>\n            <div><p style='padding: 10px; color: #3a87ad; background-color: #d9edf7; border-color: #bce9f1'>&nbsp;&nbsp;&nbsp;962fbf96-f15e-4d37-8f91-13cae96f4b3e@applicationinsights<br>&nbsp;*&nbsp;add_Application_ID_id_from_the_Application_Insights_portal_under_API_access@applicationinsights</p></div>\n        </body>\n        </html>"
                    },
                    "metadata": {},
                    "output_type": "display_data"
                },
                {
                    "data": {
                        "text/plain": "<IPython.core.display.HTML object>",
                        "text/html": "<html>\n        <head>\n            \n            \n        </head>\n        <body>\n            <div><p style='padding: 10px; color: #b94a48; background-color: #f2dede; border-color: #eed3d7'>KqlError:&nbsp;{&quot;error&quot;:{&quot;message&quot;:&quot;The&nbsp;requested&nbsp;path&nbsp;does&nbsp;not&nbsp;exist&quot;,&quot;code&quot;:&quot;PathNotFoundError&quot;,&quot;correlationId&quot;:&quot;77fc123d-df45-4b1f-af24-64000554c691&quot;}}</p></div>\n        </body>\n        </html>"
                    },
                    "metadata": {},
                    "output_type": "display_data"
                }
            ],
            "execution_count": 42
        },
        {
            "cell_type": "code",
            "source": [
                "%%kql\r\n",
                "let _aadTenantId = aadTenantId;\r\n",
                "let _environmentName = environmentName;\r\n",
                "let _startDate = startDate;\r\n",
                "let _endDate = endDate;\r\n",
                "traces\r\n",
                "| where 1==1 \r\n",
                "    and timestamp >= todatetime(_startDate)\r\n",
                "    and timestamp <= todatetime(_endDate) + totimespan(24h) - totimespan(1ms)   \r\n",
                "    and customDimensions.aadTenantId == _aadTenantId\r\n",
                "    and customDimensions.environmentName == _environmentName\r\n",
                "    and customDimensions.eventId == 'RT0012'\r\n",
                "| extend alObjectId = toint(customDimensions.alObjectId)\r\n",
                "| where alObjectId between (50000 .. 99999) or alObjectId between (1000000 .. 74999999)\r\n",
                "| extend codeOwnership = case(\r\n",
                "      alObjectId between (50000 .. 99999), 'ENVIRONMENT'\r\n",
                "    , alObjectId between (1000000 .. 69999999), 'ISV_ONPREM'\r\n",
                "    , alObjectId between (70000000 .. 74999999), 'ISV_ONLINE'\r\n",
                "    , 'MICROSOFT'\r\n",
                ")\r\n",
                "| summarize request_count=count() by bin(timestamp, 1d)\r\n",
                "| render timechart title= 'Number of database lock timeouts (in partner code)'"
            ],
            "metadata": {
                "azdata_cell_guid": "3ee52ced-9377-46a5-865a-528cceb6b335"
            },
            "outputs": [
                {
                    "data": {
                        "text/plain": "<IPython.core.display.HTML object>",
                        "text/html": "<html>\n        <head>\n            \n            \n        </head>\n        <body>\n            <div><p style='padding: 10px; color: #3a87ad; background-color: #d9edf7; border-color: #bce9f1'>&nbsp;&nbsp;&nbsp;962fbf96-f15e-4d37-8f91-13cae96f4b3e@applicationinsights<br>&nbsp;*&nbsp;add_Application_ID_id_from_the_Application_Insights_portal_under_API_access@applicationinsights</p></div>\n        </body>\n        </html>"
                    },
                    "metadata": {},
                    "output_type": "display_data"
                },
                {
                    "data": {
                        "text/plain": "<IPython.core.display.HTML object>",
                        "text/html": "<html>\n        <head>\n            \n            \n        </head>\n        <body>\n            <div><p style='padding: 10px; color: #b94a48; background-color: #f2dede; border-color: #eed3d7'>KqlError:&nbsp;{&quot;error&quot;:{&quot;message&quot;:&quot;The&nbsp;requested&nbsp;path&nbsp;does&nbsp;not&nbsp;exist&quot;,&quot;code&quot;:&quot;PathNotFoundError&quot;,&quot;correlationId&quot;:&quot;66422a2e-5699-4518-b5a3-10633fae5998&quot;}}</p></div>\n        </body>\n        </html>"
                    },
                    "metadata": {},
                    "output_type": "display_data"
                }
            ],
            "execution_count": 43
        },
        {
            "cell_type": "code",
            "source": [
                "%%kql\r\n",
                "// \r\n",
                "// partner code units where database lock timeouts occur\r\n",
                "// \r\n",
                "let _aadTenantId = aadTenantId;\r\n",
                "let _environmentName = environmentName;\r\n",
                "let _startDate = startDate;\r\n",
                "let _endDate = endDate;\r\n",
                "traces\r\n",
                "| where 1==1 \r\n",
                "    and timestamp >= todatetime(_startDate)\r\n",
                "    and timestamp <= todatetime(_endDate) + totimespan(24h) - totimespan(1ms)   \r\n",
                "    and customDimensions.aadTenantId == _aadTenantId\r\n",
                "    and customDimensions.environmentName == _environmentName\r\n",
                "    and customDimensions.eventId == 'RT0012'\r\n",
                "| extend alObjectId = toint(customDimensions.alObjectId)\r\n",
                "| where alObjectId between (50000 .. 99999) or alObjectId between (1000000 .. 74999999)\r\n",
                "| extend codeOwnership = case(\r\n",
                "      alObjectId between (50000 .. 99999), 'ENVIRONMENT'\r\n",
                "    , alObjectId between (1000000 .. 69999999), 'ISV_ONPREM'\r\n",
                "    , alObjectId between (70000000 .. 74999999), 'ISV_ONLINE'\r\n",
                "    , 'MICROSOFT'\r\n",
                ")\r\n",
                "| summarize timeout_count=count() by alObjectId\r\n",
                "| order by timeout_count"
            ],
            "metadata": {
                "azdata_cell_guid": "82119fb5-180d-4ead-b1ae-198adcd8c0b6"
            },
            "outputs": [
                {
                    "data": {
                        "text/plain": "<IPython.core.display.HTML object>",
                        "text/html": "<html>\n        <head>\n            \n            \n        </head>\n        <body>\n            <div><p style='padding: 10px; color: #3a87ad; background-color: #d9edf7; border-color: #bce9f1'>&nbsp;&nbsp;&nbsp;962fbf96-f15e-4d37-8f91-13cae96f4b3e@applicationinsights<br>&nbsp;*&nbsp;add_Application_ID_id_from_the_Application_Insights_portal_under_API_access@applicationinsights</p></div>\n        </body>\n        </html>"
                    },
                    "metadata": {},
                    "output_type": "display_data"
                },
                {
                    "data": {
                        "text/plain": "<IPython.core.display.HTML object>",
                        "text/html": "<html>\n        <head>\n            \n            \n        </head>\n        <body>\n            <div><p style='padding: 10px; color: #b94a48; background-color: #f2dede; border-color: #eed3d7'>KqlError:&nbsp;{&quot;error&quot;:{&quot;message&quot;:&quot;The&nbsp;requested&nbsp;path&nbsp;does&nbsp;not&nbsp;exist&quot;,&quot;code&quot;:&quot;PathNotFoundError&quot;,&quot;correlationId&quot;:&quot;7a14dbee-12eb-4f87-b4b6-3a32c3e13db8&quot;}}</p></div>\n        </body>\n        </html>"
                    },
                    "metadata": {},
                    "output_type": "display_data"
                }
            ],
            "execution_count": 44
        },
        {
            "cell_type": "markdown",
            "source": [
                "## Reports\r\n",
                "\r\n",
                "Learn more about how to write performant reports here in the performance tuning guide: https://docs.microsoft.com/en-us/dynamics365/business-central/dev-itpro/performance/performance-developer#writing-efficient-reports\r\n",
                "\r\n",
                "Report telemetry docs: https://docs.microsoft.com/en-us/dynamics365/business-central/dev-itpro/administration/telemetry-reports-trace\r\n",
                "\r\n",
                "KQL samples: \r\n",
                "* https://github.com/microsoft/BCTech/blob/master/samples/AppInsights/KQL/RawData/Reports.kql\r\n",
                "* https://github.com/microsoft/BCTech/blob/master/samples/AppInsights/KQL/PerformanceTuning/ReportExecution.kql"
            ],
            "metadata": {
                "azdata_cell_guid": "9e51a638-4e8d-413b-bc03-87bc8cac36a3"
            }
        },
        {
            "cell_type": "code",
            "source": [
                "%%kql\r\n",
                "let _aadTenantId = aadTenantId;\r\n",
                "let _environmentName = environmentName;\r\n",
                "let _startDate = startDate;\r\n",
                "let _endDate = endDate;\r\n",
                "traces\r\n",
                "| where 1==1 \r\n",
                "    and timestamp >= todatetime(_startDate)\r\n",
                "    and timestamp <= todatetime(_endDate) + totimespan(24h) - totimespan(1ms)   \r\n",
                "    and customDimensions.aadTenantId == _aadTenantId\r\n",
                "    and customDimensions.environmentName == _environmentName\r\n",
                "    and customDimensions.eventId == 'RT0006'\r\n",
                "| extend alObjectId = toint(customDimensions.alObjectId)\r\n",
                "| where alObjectId between (50000 .. 99999) or alObjectId between (1000000 .. 74999999)\r\n",
                "| extend clientType = tostring( customDimensions.clientType )\r\n",
                "       , reportName = tostring( customDimensions.alObjectName )\r\n",
                "| extend codeOwnership = case(\r\n",
                "      alObjectId between (50000 .. 99999), 'ENVIRONMENT'\r\n",
                "    , alObjectId between (1000000 .. 69999999), 'ISV_ONPREM'\r\n",
                "    , alObjectId between (70000000 .. 74999999), 'ISV_ONLINE'\r\n",
                "    , 'MICROSOFT'\r\n",
                ")\r\n",
                "| where reportName <> ''\r\n",
                "| summarize count=count() by clientType, bin(timestamp, 1d)\r\n",
                "| render timechart title= 'Number of report execution by client/session type (partner reports)'"
            ],
            "metadata": {
                "azdata_cell_guid": "21e5d398-4a06-4ab9-a0e3-6e6263725dec"
            },
            "outputs": [
                {
                    "data": {
                        "text/plain": "<IPython.core.display.HTML object>",
                        "text/html": "<html>\n        <head>\n            \n            \n        </head>\n        <body>\n            <div><p style='padding: 10px; color: #3a87ad; background-color: #d9edf7; border-color: #bce9f1'>&nbsp;&nbsp;&nbsp;962fbf96-f15e-4d37-8f91-13cae96f4b3e@applicationinsights<br>&nbsp;*&nbsp;add_Application_ID_id_from_the_Application_Insights_portal_under_API_access@applicationinsights</p></div>\n        </body>\n        </html>"
                    },
                    "metadata": {},
                    "output_type": "display_data"
                },
                {
                    "data": {
                        "text/plain": "<IPython.core.display.HTML object>",
                        "text/html": "<html>\n        <head>\n            \n            \n        </head>\n        <body>\n            <div><p style='padding: 10px; color: #b94a48; background-color: #f2dede; border-color: #eed3d7'>KqlError:&nbsp;{&quot;error&quot;:{&quot;message&quot;:&quot;The&nbsp;requested&nbsp;path&nbsp;does&nbsp;not&nbsp;exist&quot;,&quot;code&quot;:&quot;PathNotFoundError&quot;,&quot;correlationId&quot;:&quot;5785ad1f-d305-4563-bb59-ae84bec3e313&quot;}}</p></div>\n        </body>\n        </html>"
                    },
                    "metadata": {},
                    "output_type": "display_data"
                }
            ],
            "execution_count": 45
        },
        {
            "cell_type": "code",
            "source": [
                "%%kql\r\n",
                "let _aadTenantId = aadTenantId;\r\n",
                "let _environmentName = environmentName;\r\n",
                "let _startDate = startDate;\r\n",
                "let _endDate = endDate;\r\n",
                "traces\r\n",
                "| where 1==1 \r\n",
                "    and timestamp >= todatetime(_startDate)\r\n",
                "    and timestamp <= todatetime(_endDate) + totimespan(24h) - totimespan(1ms)   \r\n",
                "    and customDimensions.aadTenantId == _aadTenantId\r\n",
                "    and customDimensions.environmentName == _environmentName\r\n",
                "    and customDimensions.eventId == 'RT0006'\r\n",
                "| extend alObjectId = toint(customDimensions.alObjectId)\r\n",
                "| where alObjectId between (50000 .. 99999) or alObjectId between (1000000 .. 74999999)\r\n",
                "| extend reportName = tostring( customDimensions.alObjectName )\r\n",
                "       , executionTimeInSec = toreal(totimespan(customDimensions.totalTime))/10000000 //the datatype for executionTime is timespan \r\n",
                "| where reportName <> ''\r\n",
                "| extend codeOwnership = case(\r\n",
                "      alObjectId between (50000 .. 99999), 'ENVIRONMENT'\r\n",
                "    , alObjectId between (1000000 .. 69999999), 'ISV_ONPREM'\r\n",
                "    , alObjectId between (70000000 .. 74999999), 'ISV_ONLINE'\r\n",
                "    , 'MICROSOFT'\r\n",
                ")\r\n",
                "| summarize avg=avg(executionTimeInSec), median=percentile(executionTimeInSec, 50), percentile95=percentile(executionTimeInSec, 95), max=max(executionTimeInSec)   \r\n",
                "  by reportName\r\n",
                "| order by percentile95\r\n",
                "| limit 10\r\n",
                "| render columnchart with  (title= 'Execution time stats of (partner) reports by report name (top 10 by 95% percentile)', ytitle='Time (in seconds)' ) "
            ],
            "metadata": {
                "azdata_cell_guid": "80670aee-4a06-44da-8b8f-b0bb8124ef12"
            },
            "outputs": [
                {
                    "data": {
                        "text/plain": "<IPython.core.display.HTML object>",
                        "text/html": "<html>\n        <head>\n            \n            \n        </head>\n        <body>\n            <div><p style='padding: 10px; color: #3a87ad; background-color: #d9edf7; border-color: #bce9f1'>&nbsp;&nbsp;&nbsp;962fbf96-f15e-4d37-8f91-13cae96f4b3e@applicationinsights<br>&nbsp;*&nbsp;add_Application_ID_id_from_the_Application_Insights_portal_under_API_access@applicationinsights</p></div>\n        </body>\n        </html>"
                    },
                    "metadata": {},
                    "output_type": "display_data"
                },
                {
                    "data": {
                        "text/plain": "<IPython.core.display.HTML object>",
                        "text/html": "<html>\n        <head>\n            \n            \n        </head>\n        <body>\n            <div><p style='padding: 10px; color: #b94a48; background-color: #f2dede; border-color: #eed3d7'>KqlError:&nbsp;{&quot;error&quot;:{&quot;message&quot;:&quot;The&nbsp;requested&nbsp;path&nbsp;does&nbsp;not&nbsp;exist&quot;,&quot;code&quot;:&quot;PathNotFoundError&quot;,&quot;correlationId&quot;:&quot;c9b154e9-577d-405e-bc8c-ee629ab8c0ab&quot;}}</p></div>\n        </body>\n        </html>"
                    },
                    "metadata": {},
                    "output_type": "display_data"
                }
            ],
            "execution_count": 46
        },
        {
            "cell_type": "code",
            "source": [
                "%%kql\r\n",
                "// \r\n",
                "// top 20 most expensive reports (in partner code)\r\n",
                "// \r\n",
                "let _aadTenantId = aadTenantId;\r\n",
                "let _environmentName = environmentName;\r\n",
                "let _startDate = startDate;\r\n",
                "let _endDate = endDate;\r\n",
                "traces\r\n",
                "| where 1==1 \r\n",
                "    and timestamp >= todatetime(_startDate)\r\n",
                "    and timestamp <= todatetime(_endDate) + totimespan(24h) - totimespan(1ms)   \r\n",
                "    and customDimensions.aadTenantId == _aadTenantId\r\n",
                "    and customDimensions.environmentName == _environmentName\r\n",
                "    and customDimensions.eventId == 'RT0006'\r\n",
                "| extend alObjectId = toint(customDimensions.alObjectId)\r\n",
                "| where alObjectId between (50000 .. 99999) or alObjectId between (1000000 .. 74999999)\r\n",
                "| extend reportName = tostring( customDimensions.alObjectName )\r\n",
                "       , executionTimeInSec = toreal(totimespan(customDimensions.totalTime))/10000000 //the datatype for executionTime is timespan \r\n",
                "| extend codeOwnership = case(\r\n",
                "      alObjectId between (50000 .. 99999), 'ENVIRONMENT'\r\n",
                "    , alObjectId between (1000000 .. 69999999), 'ISV_ONPREM'\r\n",
                "    , alObjectId between (70000000 .. 74999999), 'ISV_ONLINE'\r\n",
                "    , 'MICROSOFT'\r\n",
                ")\r\n",
                "| where reportName <> ''\r\n",
                "| summarize avg=avg(executionTimeInSec), median=percentile(executionTimeInSec, 50), percentile95=percentile(executionTimeInSec, 95), max=max(executionTimeInSec)   \r\n",
                "  by reportName\r\n",
                "| order by percentile95\r\n",
                "| limit 20"
            ],
            "metadata": {
                "azdata_cell_guid": "ac9f9201-e3cc-41ae-958c-f532de3717ec"
            },
            "outputs": [
                {
                    "data": {
                        "text/plain": "<IPython.core.display.HTML object>",
                        "text/html": "<html>\n        <head>\n            \n            \n        </head>\n        <body>\n            <div><p style='padding: 10px; color: #3a87ad; background-color: #d9edf7; border-color: #bce9f1'>&nbsp;&nbsp;&nbsp;962fbf96-f15e-4d37-8f91-13cae96f4b3e@applicationinsights<br>&nbsp;*&nbsp;add_Application_ID_id_from_the_Application_Insights_portal_under_API_access@applicationinsights</p></div>\n        </body>\n        </html>"
                    },
                    "metadata": {},
                    "output_type": "display_data"
                },
                {
                    "data": {
                        "text/plain": "<IPython.core.display.HTML object>",
                        "text/html": "<html>\n        <head>\n            \n            \n        </head>\n        <body>\n            <div><p style='padding: 10px; color: #b94a48; background-color: #f2dede; border-color: #eed3d7'>KqlError:&nbsp;{&quot;error&quot;:{&quot;message&quot;:&quot;The&nbsp;requested&nbsp;path&nbsp;does&nbsp;not&nbsp;exist&quot;,&quot;code&quot;:&quot;PathNotFoundError&quot;,&quot;correlationId&quot;:&quot;27dcff9b-4d9e-480a-8ca0-af9ede8c8f2e&quot;}}</p></div>\n        </body>\n        </html>"
                    },
                    "metadata": {},
                    "output_type": "display_data"
                }
            ],
            "execution_count": 47
        },
        {
            "cell_type": "code",
            "source": [
                "%%kql\r\n",
                "// \r\n",
                "// top 10 reports that have a low sqlratio\r\n",
                "// \r\n",
                "// The higher the number called sqlratio is, the more set-based the report is (it tells you how many sql rows are read per sql statement)\r\n",
                "//\r\n",
                "let _aadTenantId = aadTenantId;\r\n",
                "let _environmentName = environmentName;\r\n",
                "let _startDate = startDate;\r\n",
                "let _endDate = endDate;\r\n",
                "traces\r\n",
                "| where 1==1 \r\n",
                "    and timestamp >= todatetime(_startDate)\r\n",
                "    and timestamp <= todatetime(_endDate) + totimespan(24h) - totimespan(1ms)   \r\n",
                "    and customDimensions.aadTenantId == _aadTenantId\r\n",
                "    and customDimensions.environmentName == _environmentName\r\n",
                "    and customDimensions.eventId == 'RT0006'\r\n",
                "| extend alObjectId = toint(customDimensions.alObjectId)\r\n",
                "| where alObjectId between (50000 .. 99999) or alObjectId between (1000000 .. 74999999)\r\n",
                "| extend codeOwnership = case(\r\n",
                "      alObjectId between (50000 .. 99999), 'ENVIRONMENT'\r\n",
                "    , alObjectId between (1000000 .. 69999999), 'ISV_ONPREM'\r\n",
                "    , alObjectId between (70000000 .. 74999999), 'ISV_ONLINE'\r\n",
                "    , 'MICROSOFT'\r\n",
                ")\r\n",
                "| project numberOfRows = toint(customDimensions.numberOfRows)\r\n",
                ", sqlRowsRead = toint( customDimensions.sqlRowsRead )\r\n",
                ", sqlExecutes = toint( customDimensions.sqlExecutes )\r\n",
                ", alObjectName = tostring( customDimensions.alObjectName )\r\n",
                ", alObjectId = tostring( customDimensions.alObjectId )\r\n",
                ", codeOwnership\r\n",
                ", extensionPublisher = tostring(customDimensions.extensionPublisher )\r\n",
                "| where isnotnull( sqlExecutes ) and isnotnull( sqlRowsRead )\r\n",
                "| summarize numberOfReportExecutions=count(), totalRows=sum(numberOfRows), totalSQLExecutes = sum(sqlExecutes), totalSQLRowsRead = sum(sqlRowsRead) \r\n",
                "by alObjectId, alObjectName, codeOwnership\r\n",
                "| extend sqlratio = toreal(totalSQLRowsRead)/totalSQLExecutes\r\n",
                ", datasetratio = toreal(totalRows)/totalSQLExecutes\r\n",
                "| order by sqlratio asc\r\n",
                "| limit 10"
            ],
            "metadata": {
                "azdata_cell_guid": "593a264d-6673-471c-a835-0a5d5daec84c"
            },
            "outputs": [
                {
                    "data": {
                        "text/plain": "<IPython.core.display.HTML object>",
                        "text/html": "<html>\n        <head>\n            \n            \n        </head>\n        <body>\n            <div><p style='padding: 10px; color: #3a87ad; background-color: #d9edf7; border-color: #bce9f1'>&nbsp;&nbsp;&nbsp;962fbf96-f15e-4d37-8f91-13cae96f4b3e@applicationinsights<br>&nbsp;*&nbsp;add_Application_ID_id_from_the_Application_Insights_portal_under_API_access@applicationinsights</p></div>\n        </body>\n        </html>"
                    },
                    "metadata": {},
                    "output_type": "display_data"
                },
                {
                    "data": {
                        "text/plain": "<IPython.core.display.HTML object>",
                        "text/html": "<html>\n        <head>\n            \n            \n        </head>\n        <body>\n            <div><p style='padding: 10px; color: #b94a48; background-color: #f2dede; border-color: #eed3d7'>KqlError:&nbsp;{&quot;error&quot;:{&quot;message&quot;:&quot;The&nbsp;requested&nbsp;path&nbsp;does&nbsp;not&nbsp;exist&quot;,&quot;code&quot;:&quot;PathNotFoundError&quot;,&quot;correlationId&quot;:&quot;d832db1b-1b2d-4ba0-b133-a7b344836f28&quot;}}</p></div>\n        </body>\n        </html>"
                    },
                    "metadata": {},
                    "output_type": "display_data"
                }
            ],
            "execution_count": 48
        },
        {
            "cell_type": "markdown",
            "source": [
                "## Page views\r\n",
                "\r\n",
                "\r\n",
                "Page view telemetry docs: https://docs.microsoft.com/en-us/dynamics365/business-central/dev-itpro/administration/telemetry-page-view-trace\r\n",
                "\r\n",
                "KQL samples: https://github.com/microsoft/BCTech/blob/master/samples/AppInsights/KQL/RawData/PageViews.kql"
            ],
            "metadata": {
                "azdata_cell_guid": "1452b8b6-3c5f-4b36-b259-33298826a8fb"
            }
        },
        {
            "cell_type": "code",
            "source": [
                "%%kql\r\n",
                "//\r\n",
                "// Top 10 longest page times (partner-added pages)\r\n",
                "// \r\n",
                "let _aadTenantId = aadTenantId;\r\n",
                "let _environmentName = environmentName;\r\n",
                "let _startDate = startDate;\r\n",
                "let _endDate = endDate;\r\n",
                "pageViews\r\n",
                "| where 1==1 \r\n",
                "    and timestamp >= todatetime(_startDate)\r\n",
                "    and timestamp <= todatetime(_endDate) + totimespan(24h) - totimespan(1ms)   \r\n",
                "    and customDimensions.aadTenantId == _aadTenantId\r\n",
                "    and customDimensions.environmentName == _environmentName\r\n",
                "| extend alObjectId = toint(customDimensions.alObjectId)\r\n",
                "| where alObjectId between (50000 .. 99999) or alObjectId between (1000000 .. 74999999)\r\n",
                "| extend objectId = tostring(customDimensions.alObjectId)\r\n",
                "| extend codeOwnership = case(\r\n",
                "      alObjectId between (50000 .. 99999), 'ENVIRONMENT'\r\n",
                "    , alObjectId between (1000000 .. 69999999), 'ISV_ONPREM'\r\n",
                "    , alObjectId between (70000000 .. 74999999), 'ISV_ONLINE'\r\n",
                "    , 'MICROSOFT'\r\n",
                ")\r\n",
                "| summarize median_load_time_in_MS = percentile(duration,50) by pageName=name, objectId\r\n",
                "| order by median_load_time_in_MS desc\r\n",
                "| limit 10"
            ],
            "metadata": {
                "azdata_cell_guid": "6595bc25-3cbf-4b37-bc4f-c62e9d2e2810"
            },
            "outputs": [
                {
                    "data": {
                        "text/plain": "<IPython.core.display.HTML object>",
                        "text/html": "<html>\n        <head>\n            \n            \n        </head>\n        <body>\n            <div><p style='padding: 10px; color: #3a87ad; background-color: #d9edf7; border-color: #bce9f1'>&nbsp;&nbsp;&nbsp;962fbf96-f15e-4d37-8f91-13cae96f4b3e@applicationinsights<br>&nbsp;*&nbsp;add_Application_ID_id_from_the_Application_Insights_portal_under_API_access@applicationinsights</p></div>\n        </body>\n        </html>"
                    },
                    "metadata": {},
                    "output_type": "display_data"
                },
                {
                    "data": {
                        "text/plain": "<IPython.core.display.HTML object>",
                        "text/html": "<html>\n        <head>\n            \n            \n        </head>\n        <body>\n            <div><p style='padding: 10px; color: #b94a48; background-color: #f2dede; border-color: #eed3d7'>KqlError:&nbsp;{&quot;error&quot;:{&quot;message&quot;:&quot;The&nbsp;requested&nbsp;path&nbsp;does&nbsp;not&nbsp;exist&quot;,&quot;code&quot;:&quot;PathNotFoundError&quot;,&quot;correlationId&quot;:&quot;86a34ad2-e639-4a9b-adc4-7f81307b139c&quot;}}</p></div>\n        </body>\n        </html>"
                    },
                    "metadata": {},
                    "output_type": "display_data"
                }
            ],
            "execution_count": 49
        }
    ]
}