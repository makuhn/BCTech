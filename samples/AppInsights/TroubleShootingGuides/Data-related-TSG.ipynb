{
    "metadata": {
        "kernelspec": {
            "name": "python3",
            "display_name": "Python 3"
        },
        "language_info": {
            "name": "python",
            "version": "3.6.6",
            "mimetype": "text/x-python",
            "codemirror_mode": {
                "name": "ipython",
                "version": 3
            },
            "pygments_lexer": "ipython3",
            "nbconvert_exporter": "python",
            "file_extension": ".py"
        }
    },
    "nbformat_minor": 2,
    "nbformat": 4,
    "cells": [
        {
            "cell_type": "markdown",
            "source": [
                "# Dynamics 365 Business Central Trouble Shooting Guide (TSG), data-related issues\r\n",
                "\r\n",
                "This notebook contains Kusto queries that can help getting to the root cause of an data-related issue for an environment. \r\n",
                "\r\n",
                "NB! Some of the signal used in this notebook is only available in newer versions of Business Central, so check the version of your environment if some sections do not return any data. The signal documentation states in which version a given signal was introduced.\r\n",
                ""
            ],
            "metadata": {
                "azdata_cell_guid": "1f608a1d-2436-4b48-80d4-5c4d2f8ca7d0"
            }
        },
        {
            "cell_type": "markdown",
            "source": [
                "## 1. Connect to Application Insights\r\n",
                "First you need to set the notebook Kernel to Python3, load the KQLmagic module (did you install it?) and connect to your Application Insights resource (get appid and appkey from the API access page in the Application Insights portal)"
            ],
            "metadata": {
                "azdata_cell_guid": "f103fae9-cf6d-40f7-9062-11ce50691046"
            }
        },
        {
            "cell_type": "code",
            "source": [
                "# load the KQLmagic module\r\n",
                "%reload_ext Kqlmagic"
            ],
            "metadata": {
                "azdata_cell_guid": "5d02aa4b-9e41-474f-b643-2fbd482077af"
            },
            "outputs": [],
            "execution_count": 11
        },
        {
            "cell_type": "code",
            "source": [
                "# Connect to the Application Insights API\r\n",
                "%kql appinsights://appid='<add app id from the Application Insights portal>';appkey='<add API key from the Application Insights portal>'"
            ],
            "metadata": {
                "azdata_cell_guid": "a253fa8e-6ac2-4722-a00a-1c52aedab4ed",
                "tags": []
            },
            "outputs": [
                {
                    "data": {
                        "text/plain": "<IPython.core.display.HTML object>",
                        "text/html": "<html>\n        <head>\n            \n            \n        </head>\n        <body>\n            <div><p style='padding: 10px; color: #b94a48; background-color: #f2dede; border-color: #eed3d7'>KqlError:&nbsp;{&quot;error&quot;:{&quot;message&quot;:&quot;The&nbsp;requested&nbsp;path&nbsp;does&nbsp;not&nbsp;exist&quot;,&quot;code&quot;:&quot;PathNotFoundError&quot;,&quot;correlationId&quot;:&quot;93444c87-1751-4113-88ec-9ddb80e5cd54&quot;}}</p></div>\n        </body>\n        </html>"
                    },
                    "metadata": {},
                    "output_type": "display_data"
                }
            ],
            "execution_count": 12
        },
        {
            "cell_type": "markdown",
            "source": [
                "## 2. Define filters\r\n",
                "This workbook is designed for troubleshooting a single environment. Please provide values for aadTenantId and environmentName: "
            ],
            "metadata": {
                "azdata_cell_guid": "9ef1220c-d9cc-4552-9297-1428efcafb32"
            }
        },
        {
            "cell_type": "code",
            "source": [
                "aadTenantId = \"<Add AAD tenant id here>\"\r\n",
                "environmentName = \"<add environment name here>\"\r\n",
                "\r\n",
                "aadTenantId = \"3b028712-63d3-4214-ba11-932ebb5cfc1d\"\r\n",
                "environmentName = \"Sandbox\"\r\n",
                "\r\n",
                "# date filters for the analysis\r\n",
                "# use YYYY-MM-DD format for the dates (ISO 8601)\r\n",
                "startDate = \"2020-09-20\"\r\n",
                "endDate = \"2020-09-27\""
            ],
            "metadata": {
                "azdata_cell_guid": "0a0785f7-a85e-4ccf-9020-732e1d4c058a",
                "tags": []
            },
            "outputs": [],
            "execution_count": 13
        },
        {
            "cell_type": "markdown",
            "source": [
                "# Analyze database usage\r\n",
                "Now you can run Kusto queries to look for possible root causes for issues about data.\r\n",
                "\r\n",
                "Either click **Run All** above to run all sections, or scroll down to the type of analysis you want to do and manually run queries"
            ],
            "metadata": {
                "azdata_cell_guid": "5f9b698d-8a7e-4757-b27d-02f219d6c589"
            }
        },
        {
            "cell_type": "markdown",
            "source": [
                "## Long Running SQL Queries\r\n",
                "\r\n",
                "Performance tuning guide: [Efficient data access](https://docs.microsoft.com/en-us/dynamics365/business-central/dev-itpro/performance/performance-developer#efficient-data-access)\r\n",
                "\r\n",
                "Database telemetry docs: https://docs.microsoft.com/en-us/dynamics365/business-central/dev-itpro/administration/telemetry-long-running-sql-query-trace\r\n",
                "\r\n",
                "KQL samples: https://github.com/microsoft/BCTech/blob/master/samples/AppInsights/KQL/RawData/Long%20Running%20SQL%20Queries.kql"
            ],
            "metadata": {
                "azdata_cell_guid": "2f9c2d0d-df3c-482b-af58-48416a517117"
            }
        },
        {
            "cell_type": "code",
            "source": [
                "%%kql\r\n",
                "let _aadTenantId = aadTenantId;\r\n",
                "let _environmentName = environmentName;\r\n",
                "let _startDate = startDate;\r\n",
                "let _endDate = endDate;\r\n",
                "traces\r\n",
                "| where 1==1 \r\n",
                "    and timestamp >= todatetime(_startDate)\r\n",
                "    and timestamp <= todatetime(_endDate) + totimespan(24h) - totimespan(1ms)   \r\n",
                "    and customDimensions.aadTenantId == _aadTenantId\r\n",
                "    and customDimensions.environmentName == _environmentName\r\n",
                "    and customDimensions.eventId == 'RT0005'\r\n",
                "| summarize count() by bin(timestamp, 1d)\r\n",
                "| render timechart title= 'Number of long running SQL queries'"
            ],
            "metadata": {
                "azdata_cell_guid": "a9e923e9-1d05-4acf-a230-4c5142bc3582",
                "tags": []
            },
            "outputs": [
                {
                    "data": {
                        "text/plain": "<IPython.core.display.HTML object>",
                        "text/html": "<html>\n        <head>\n            \n            \n        </head>\n        <body>\n            <div><p style='padding: 10px; color: #3a87ad; background-color: #d9edf7; border-color: #bce9f1'>&nbsp;&nbsp;&nbsp;962fbf96-f15e-4d37-8f91-13cae96f4b3e@applicationinsights<br>&nbsp;*&nbsp;add_app_id_from_the_Application_Insights_portal@applicationinsights</p></div>\n        </body>\n        </html>"
                    },
                    "metadata": {},
                    "output_type": "display_data"
                },
                {
                    "data": {
                        "text/plain": "<IPython.core.display.HTML object>",
                        "text/html": "<html>\n        <head>\n            \n            \n        </head>\n        <body>\n            <div><p style='padding: 10px; color: #b94a48; background-color: #f2dede; border-color: #eed3d7'>KqlError:&nbsp;{&quot;error&quot;:{&quot;message&quot;:&quot;The&nbsp;requested&nbsp;path&nbsp;does&nbsp;not&nbsp;exist&quot;,&quot;code&quot;:&quot;PathNotFoundError&quot;,&quot;correlationId&quot;:&quot;bb8df0ec-12cd-4d47-87ce-6a916f699e72&quot;}}</p></div>\n        </body>\n        </html>"
                    },
                    "metadata": {},
                    "output_type": "display_data"
                }
            ],
            "execution_count": 14
        },
        {
            "cell_type": "code",
            "source": [
                "%%kql\r\n",
                "// \r\n",
                "// top 10 objects with long running sql queries\r\n",
                "// \r\n",
                "let _aadTenantId = aadTenantId;\r\n",
                "let _environmentName = environmentName;\r\n",
                "let _startDate = startDate;\r\n",
                "let _endDate = endDate;\r\n",
                "traces\r\n",
                "| where 1==1 \r\n",
                "    and timestamp >= todatetime(_startDate)\r\n",
                "    and timestamp <= todatetime(_endDate) + totimespan(24h) - totimespan(1ms)   \r\n",
                "    and customDimensions.aadTenantId == _aadTenantId\r\n",
                "    and customDimensions.environmentName == _environmentName\r\n",
                "    and customDimensions.eventId == 'RT0005'\r\n",
                "    and customDimensions.alObjectId != '0'\r\n",
                "| extend sqlStatement = tostring(customDimensions.sqlStatement)\r\n",
                ", alObjectId = tostring(customDimensions.alObjectId)\r\n",
                ", alObjectName = tostring( customDimensions.alObjectName )\r\n",
                ", alObjectType = customDimensions.alObjectType\r\n",
                ", alStackTrace = customDimensions.alStackTrace\r\n",
                ", executionTimeInMS = toreal(totimespan(customDimensions.executionTime))/10000 //the datatype for executionTime is timespan \r\n",
                ", extensionName = tostring( customDimensions.extensionName )\r\n",
                "| summarize count(), sumOfExecutionTimeInMS=sum(executionTimeInMS), medianExecutionTimeInMS=percentile(executionTimeInMS, 50) by alObjectId, alObjectName, extensionName\r\n",
                "| order by medianExecutionTimeInMS desc\r\n",
                "| limit 10"
            ],
            "metadata": {
                "azdata_cell_guid": "f1bfdf32-3d81-4365-be37-9fff41957aac"
            },
            "outputs": [
                {
                    "data": {
                        "text/plain": "<IPython.core.display.HTML object>",
                        "text/html": "<html>\n        <head>\n            \n            \n        </head>\n        <body>\n            <div><p style='padding: 10px; color: #3a87ad; background-color: #d9edf7; border-color: #bce9f1'>&nbsp;&nbsp;&nbsp;962fbf96-f15e-4d37-8f91-13cae96f4b3e@applicationinsights<br>&nbsp;*&nbsp;add_app_id_from_the_Application_Insights_portal@applicationinsights</p></div>\n        </body>\n        </html>"
                    },
                    "metadata": {},
                    "output_type": "display_data"
                },
                {
                    "data": {
                        "text/plain": "<IPython.core.display.HTML object>",
                        "text/html": "<html>\n        <head>\n            \n            \n        </head>\n        <body>\n            <div><p style='padding: 10px; color: #b94a48; background-color: #f2dede; border-color: #eed3d7'>KqlError:&nbsp;{&quot;error&quot;:{&quot;message&quot;:&quot;The&nbsp;requested&nbsp;path&nbsp;does&nbsp;not&nbsp;exist&quot;,&quot;code&quot;:&quot;PathNotFoundError&quot;,&quot;correlationId&quot;:&quot;3f417ea8-f92e-498c-bc38-c94180fbb81a&quot;}}</p></div>\n        </body>\n        </html>"
                    },
                    "metadata": {},
                    "output_type": "display_data"
                }
            ],
            "execution_count": 15
        },
        {
            "cell_type": "markdown",
            "source": [
                "## Database locks\r\n",
                "\r\n",
                "Performance tuning guide: [Avoid locking](https://docs.microsoft.com/en-us/dynamics365/business-central/dev-itpro/performance/performance-application#avoid-locking)\r\n",
                "\r\n",
                "Database locks telemetry docs: https://docs.microsoft.com/en-us/dynamics365/business-central/dev-itpro/administration/telemetry-database-locks-trace\r\n",
                "\r\n",
                "KQL samples: https://github.com/microsoft/BCTech/blob/master/samples/AppInsights/KQL/RawData/LockTimeouts.kql\r\n",
                ""
            ],
            "metadata": {
                "azdata_cell_guid": "3583cd0b-94e2-456d-954a-4b592f4a9d73"
            }
        },
        {
            "cell_type": "code",
            "source": [
                "%%kql\r\n",
                "let _aadTenantId = aadTenantId;\r\n",
                "let _environmentName = environmentName;\r\n",
                "let _startDate = startDate;\r\n",
                "let _endDate = endDate;\r\n",
                "traces\r\n",
                "| where 1==1 \r\n",
                "    and timestamp >= todatetime(_startDate)\r\n",
                "    and timestamp <= todatetime(_endDate) + totimespan(24h) - totimespan(1ms)   \r\n",
                "    and customDimensions.aadTenantId == _aadTenantId\r\n",
                "    and customDimensions.environmentName == _environmentName\r\n",
                "    and customDimensions.eventId == 'RT0012'\r\n",
                "| summarize request_count=count() by bin(timestamp, 1d)\r\n",
                "| render timechart title= 'Number of database lock timeouts'"
            ],
            "metadata": {
                "azdata_cell_guid": "e4e56e1a-ab5d-427a-bc49-747e6ae34a75"
            },
            "outputs": [
                {
                    "data": {
                        "text/plain": "<IPython.core.display.HTML object>",
                        "text/html": "<html>\n        <head>\n            \n            \n        </head>\n        <body>\n            <div><p style='padding: 10px; color: #3a87ad; background-color: #d9edf7; border-color: #bce9f1'>&nbsp;&nbsp;&nbsp;962fbf96-f15e-4d37-8f91-13cae96f4b3e@applicationinsights<br>&nbsp;*&nbsp;add_app_id_from_the_Application_Insights_portal@applicationinsights</p></div>\n        </body>\n        </html>"
                    },
                    "metadata": {},
                    "output_type": "display_data"
                },
                {
                    "data": {
                        "text/plain": "<IPython.core.display.HTML object>",
                        "text/html": "<html>\n        <head>\n            \n            \n        </head>\n        <body>\n            <div><p style='padding: 10px; color: #b94a48; background-color: #f2dede; border-color: #eed3d7'>KqlError:&nbsp;{&quot;error&quot;:{&quot;message&quot;:&quot;The&nbsp;requested&nbsp;path&nbsp;does&nbsp;not&nbsp;exist&quot;,&quot;code&quot;:&quot;PathNotFoundError&quot;,&quot;correlationId&quot;:&quot;db828ce2-d3f9-41ad-a34c-57e479c67ae6&quot;}}</p></div>\n        </body>\n        </html>"
                    },
                    "metadata": {},
                    "output_type": "display_data"
                }
            ],
            "execution_count": 16
        },
        {
            "cell_type": "code",
            "source": [
                "%%kql\r\n",
                "// \r\n",
                "// top 10 objects that experience database lock timeouts\r\n",
                "// \r\n",
                "let _aadTenantId = aadTenantId;\r\n",
                "let _environmentName = environmentName;\r\n",
                "let _startDate = startDate;\r\n",
                "let _endDate = endDate;\r\n",
                "traces\r\n",
                "| where 1==1 \r\n",
                "    and timestamp >= todatetime(_startDate)\r\n",
                "    and timestamp <= todatetime(_endDate) + totimespan(24h) - totimespan(1ms)   \r\n",
                "    and customDimensions.aadTenantId == _aadTenantId\r\n",
                "    and customDimensions.environmentName == _environmentName\r\n",
                "    and customDimensions.eventId == 'RT0012'\r\n",
                "| extend sqlStatement = tostring(customDimensions.sqlStatement)\r\n",
                ", alObjectId = tostring(customDimensions.alObjectId)\r\n",
                ", alObjectName = tostring( customDimensions.alObjectName )\r\n",
                ", alObjectType = customDimensions.alObjectType \r\n",
                ", extensionName = tostring( customDimensions.extensionName )\r\n",
                "| summarize count() by alObjectId, alObjectName, extensionName\r\n",
                "| order by count_ desc\r\n",
                "| limit 10"
            ],
            "metadata": {
                "azdata_cell_guid": "803ac61e-3400-4aae-9e59-9b80e7df06bc"
            },
            "outputs": [
                {
                    "data": {
                        "text/plain": "<IPython.core.display.HTML object>",
                        "text/html": "<html>\n        <head>\n            \n            \n        </head>\n        <body>\n            <div><p style='padding: 10px; color: #3a87ad; background-color: #d9edf7; border-color: #bce9f1'>&nbsp;&nbsp;&nbsp;962fbf96-f15e-4d37-8f91-13cae96f4b3e@applicationinsights<br>&nbsp;*&nbsp;add_app_id_from_the_Application_Insights_portal@applicationinsights</p></div>\n        </body>\n        </html>"
                    },
                    "metadata": {},
                    "output_type": "display_data"
                },
                {
                    "data": {
                        "text/plain": "<IPython.core.display.HTML object>",
                        "text/html": "<html>\n        <head>\n            \n            \n        </head>\n        <body>\n            <div><p style='padding: 10px; color: #b94a48; background-color: #f2dede; border-color: #eed3d7'>KqlError:&nbsp;{&quot;error&quot;:{&quot;message&quot;:&quot;The&nbsp;requested&nbsp;path&nbsp;does&nbsp;not&nbsp;exist&quot;,&quot;code&quot;:&quot;PathNotFoundError&quot;,&quot;correlationId&quot;:&quot;3d582c4d-129c-4950-b7ba-524ee7ca1117&quot;}}</p></div>\n        </body>\n        </html>"
                    },
                    "metadata": {},
                    "output_type": "display_data"
                }
            ],
            "execution_count": 17
        },
        {
            "cell_type": "markdown",
            "source": [
                "## Reports\r\n",
                "\r\n",
                "Performance tuning guide: https://docs.microsoft.com/en-us/dynamics365/business-central/dev-itpro/performance/performance-developer#setbasedmethods\r\n",
                "\r\n",
                "Report telemetry docs: https://docs.microsoft.com/en-us/dynamics365/business-central/dev-itpro/administration/telemetry-reports-trace\r\n",
                "\r\n",
                "KQL samples: \r\n",
                "* https://github.com/microsoft/BCTech/blob/master/samples/AppInsights/KQL/RawData/Reports.kql\r\n",
                "* https://github.com/microsoft/BCTech/blob/master/samples/AppInsights/KQL/PerformanceTuning/ReportExecution.kql"
            ],
            "metadata": {
                "azdata_cell_guid": "76e60e16-40e3-4819-9e78-bfbe04a3cd0b"
            }
        },
        {
            "cell_type": "code",
            "source": [
                "%%kql\r\n",
                "// \r\n",
                "// top 10 reports that have a low sqlratio\r\n",
                "// \r\n",
                "// The higher the number called sqlratio is, the more set-based the report is (it tells you how many sql rows are read per sql statement)\r\n",
                "// \r\n",
                "let _aadTenantId = aadTenantId;\r\n",
                "let _environmentName = environmentName;\r\n",
                "let _startDate = startDate;\r\n",
                "let _endDate = endDate;\r\n",
                "traces\r\n",
                "| where 1==1 \r\n",
                "    and timestamp >= todatetime(_startDate)\r\n",
                "    and timestamp <= todatetime(_endDate) + totimespan(24h) - totimespan(1ms)   \r\n",
                "    and customDimensions.aadTenantId == _aadTenantId\r\n",
                "    and customDimensions.environmentName == _environmentName\r\n",
                "    and customDimensions.eventId == 'RT0006'\r\n",
                "| project numberOfRows = toint(customDimensions.numberOfRows)\r\n",
                ", sqlRowsRead = toint( customDimensions.sqlRowsRead )\r\n",
                ", sqlExecutes = toint( customDimensions.sqlExecutes )\r\n",
                ", alObjectName = tostring( customDimensions.alObjectName )\r\n",
                ", alObjectId = tostring( customDimensions.alObjectId )\r\n",
                ", extensionPublisher = tostring(customDimensions.extensionPublisher )\r\n",
                "| where isnotnull( sqlExecutes ) and isnotnull( sqlRowsRead )\r\n",
                "| summarize numberOfReportExecutions=count(), totalRows=sum(numberOfRows), totalSQLExecutes = sum(sqlExecutes), totalSQLRowsRead = sum(sqlRowsRead) by alObjectId, alObjectName\r\n",
                "| extend sqlratio = toreal(totalSQLRowsRead)/totalSQLExecutes\r\n",
                ", datasetratio = toreal(totalRows)/totalSQLExecutes\r\n",
                "| order by sqlratio asc\r\n",
                "| limit 10"
            ],
            "metadata": {
                "azdata_cell_guid": "73449c15-26aa-49b6-94a9-3d2f8608380d"
            },
            "outputs": [
                {
                    "data": {
                        "text/plain": "<IPython.core.display.HTML object>",
                        "text/html": "<html>\n        <head>\n            \n            \n        </head>\n        <body>\n            <div><p style='padding: 10px; color: #3a87ad; background-color: #d9edf7; border-color: #bce9f1'>&nbsp;&nbsp;&nbsp;962fbf96-f15e-4d37-8f91-13cae96f4b3e@applicationinsights<br>&nbsp;*&nbsp;add_app_id_from_the_Application_Insights_portal@applicationinsights</p></div>\n        </body>\n        </html>"
                    },
                    "metadata": {},
                    "output_type": "display_data"
                },
                {
                    "data": {
                        "text/plain": "<IPython.core.display.HTML object>",
                        "text/html": "<html>\n        <head>\n            \n            \n        </head>\n        <body>\n            <div><p style='padding: 10px; color: #b94a48; background-color: #f2dede; border-color: #eed3d7'>KqlError:&nbsp;{&quot;error&quot;:{&quot;message&quot;:&quot;The&nbsp;requested&nbsp;path&nbsp;does&nbsp;not&nbsp;exist&quot;,&quot;code&quot;:&quot;PathNotFoundError&quot;,&quot;correlationId&quot;:&quot;b61cbf32-cc35-4c8a-90dc-f533dd2222dd&quot;}}</p></div>\n        </body>\n        </html>"
                    },
                    "metadata": {},
                    "output_type": "display_data"
                }
            ],
            "execution_count": 18
        }
    ]
}