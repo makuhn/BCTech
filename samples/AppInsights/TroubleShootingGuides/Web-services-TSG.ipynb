{
    "metadata": {
        "kernelspec": {
            "name": "python3",
            "display_name": "Python 3"
        },
        "language_info": {
            "name": "python",
            "version": "3.6.6",
            "mimetype": "text/x-python",
            "codemirror_mode": {
                "name": "ipython",
                "version": 3
            },
            "pygments_lexer": "ipython3",
            "nbconvert_exporter": "python",
            "file_extension": ".py"
        }
    },
    "nbformat_minor": 2,
    "nbformat": 4,
    "cells": [
        {
            "cell_type": "markdown",
            "source": [
                "# Dynamics 365 Business Central Trouble Shooting Guide (TSG) - Web services\r\n",
                "\r\n",
                "This notebook contains Kusto queries that can help getting to the root cause of an issue with web services for an environment. \r\n",
                "\r\n",
                "Each section in the notebook contains links to relevant documentation from the performance tuning guide [aka.ms/bcperformance](aka.ms/bcperformance),   telemetry documentation in [aka.ms/bctelemetry](aka.ms/bctelemetry), as well as Kusto queries that help dive into a specific area.\r\n",
                "\r\n",
                "NB! Some of the signal used in this notebook is only available in newer versions of Business Central, so check the version of your environment if some sections do not return any data. The signal documentation states in which version a given signal was introduced.\r\n",
                "\r\n",
                "**NB!** Telemetry for SOAP endpoints does not emit HTTP status code. So the sections that query for different values of HTTP status will not show results for these requests."
            ],
            "metadata": {
                "azdata_cell_guid": "1f608a1d-2436-4b48-80d4-5c4d2f8ca7d0"
            }
        },
        {
            "cell_type": "markdown",
            "source": [
                "## 1. Connect to Application Insights\r\n",
                "First you need to set the notebook Kernel to Python3, load the KQLmagic module (did you install it?) and connect to your Application Insights resource (get appid and appkey from the API access page in the Application Insights portal)"
            ],
            "metadata": {
                "azdata_cell_guid": "f103fae9-cf6d-40f7-9062-11ce50691046"
            }
        },
        {
            "cell_type": "code",
            "source": [
                "# load the KQLmagic module\r\n",
                "%reload_ext Kqlmagic"
            ],
            "metadata": {
                "azdata_cell_guid": "a253fa8e-6ac2-4722-a00a-1c52aedab4ed",
                "tags": []
            },
            "outputs": [],
            "execution_count": 15
        },
        {
            "cell_type": "code",
            "source": [
                "# Connect to the Application Insights API\r\n",
                "%kql appinsights://appid='<add Application ID id from the Application Insights portal (under API access)>';appkey='<add an API key (generate one from the Application Insights portal (under API access))>'\r\n",
                ""
            ],
            "metadata": {
                "azdata_cell_guid": "0a7aed5f-11b3-43bf-b141-ae1a5d7adf3c"
            },
            "outputs": [
                {
                    "data": {
                        "text/plain": "<IPython.core.display.HTML object>",
                        "text/html": "<html>\n        <head>\n            \n            \n        </head>\n        <body>\n            <div><p style='padding: 10px; color: #b94a48; background-color: #f2dede; border-color: #eed3d7'>KqlError:&nbsp;{&quot;error&quot;:{&quot;message&quot;:&quot;The&nbsp;requested&nbsp;path&nbsp;does&nbsp;not&nbsp;exist&quot;,&quot;code&quot;:&quot;PathNotFoundError&quot;,&quot;correlationId&quot;:&quot;8c5d5b37-78bf-484d-839c-ec82d3607563&quot;}}</p></div>\n        </body>\n        </html>"
                    },
                    "metadata": {},
                    "output_type": "display_data"
                }
            ],
            "execution_count": 16
        },
        {
            "cell_type": "markdown",
            "source": [
                "## 2. Define filters\r\n",
                "This workbook is designed for troubleshooting a single environment. Please provide values for aadTenantId and environmentName: "
            ],
            "metadata": {
                "azdata_cell_guid": "9ef1220c-d9cc-4552-9297-1428efcafb32"
            }
        },
        {
            "cell_type": "code",
            "source": [
                "aadTenantId = \"<Add AAD tenant id here>\"\r\n",
                "environmentName = \"<add environment name here>\"\r\n",
                "\r\n",
                "# date filters for the analysis\r\n",
                "# use YYYY-MM-DD format for the dates (ISO 8601)\r\n",
                "startDate = \"2020-11-02\"\r\n",
                "endDate = \"2020-11-04\""
            ],
            "metadata": {
                "azdata_cell_guid": "0a0785f7-a85e-4ccf-9020-732e1d4c058a",
                "tags": []
            },
            "outputs": [],
            "execution_count": 17
        },
        {
            "cell_type": "markdown",
            "source": [
                "# Analyze web service usage\r\n",
                "Now you can run Kusto queries to look for possible root causes for issues about web services.\r\n",
                "\r\n",
                "Either click **Run All** above to run all sections, or scroll down to the type of analysis you want to do and manually run queries"
            ],
            "metadata": {
                "azdata_cell_guid": "5f9b698d-8a7e-4757-b27d-02f219d6c589"
            }
        },
        {
            "cell_type": "markdown",
            "source": [
                "## Incoming Web service requests overview\n",
                "\n",
                "Performance tuning guide: [https://docs.microsoft.com/en-us/dynamics365/business-central/dev-itpro/performance/performance-developer#writing-efficient-web-services](https://docs.microsoft.com/en-us/dynamics365/business-central/dev-itpro/performance/performance-developer#writing-efficient-web-services)\n",
                "\n",
                "Incoming Web service telemetry docs: [https://docs.microsoft.com/en-us/dynamics365/business-central/dev-itpro/administration/telemetry-webservices-trace](https://docs.microsoft.com/en-us/dynamics365/business-central/dev-itpro/administration/telemetry-webservices-trace)\n",
                "\n",
                "KQL sample: [https://github.com/microsoft/BCTech/blob/master/samples/AppInsights/KQL/RawData/WebServiceCalls.kql](https://github.com/microsoft/BCTech/blob/master/samples/AppInsights/KQL/RawData/WebServiceCalls.kql)"
            ],
            "metadata": {
                "azdata_cell_guid": "2f9c2d0d-df3c-482b-af58-48416a517117"
            }
        },
        {
            "cell_type": "code",
            "source": [
                "%%kql\r\n",
                "let _aadTenantId = aadTenantId;\r\n",
                "let _environmentName = environmentName;\r\n",
                "let _startDate = startDate;\r\n",
                "let _endDate = endDate;\r\n",
                "traces\r\n",
                "| where 1==1 \r\n",
                "    and timestamp >= todatetime(_startDate)\r\n",
                "    and timestamp <= todatetime(_endDate) + totimespan(24h) - totimespan(1ms)   \r\n",
                "    and customDimensions.aadTenantId == _aadTenantId\r\n",
                "    and customDimensions.environmentName == _environmentName\r\n",
                "    and customDimensions.eventId == 'RT0008'\r\n",
                "| extend category = tostring( customDimensions.category )\r\n",
                "| summarize request_count=count() by category, bin(timestamp, 1d)\r\n",
                "| render timechart title= 'Number of incoming web service requests by category'"
            ],
            "metadata": {
                "azdata_cell_guid": "a9e923e9-1d05-4acf-a230-4c5142bc3582",
                "tags": []
            },
            "outputs": [
                {
                    "data": {
                        "text/plain": "<IPython.core.display.HTML object>",
                        "text/html": "<html>\n        <head>\n            \n            \n        </head>\n        <body>\n            <div><p style='padding: 10px; color: #3a87ad; background-color: #d9edf7; border-color: #bce9f1'>&nbsp;&nbsp;&nbsp;962fbf96-f15e-4d37-8f91-13cae96f4b3e@applicationinsights<br>&nbsp;*&nbsp;add_Application_ID_id_from_the_Application_Insights_portal_under_API_access@applicationinsights</p></div>\n        </body>\n        </html>"
                    },
                    "metadata": {},
                    "output_type": "display_data"
                },
                {
                    "data": {
                        "text/plain": "<IPython.core.display.HTML object>",
                        "text/html": "<html>\n        <head>\n            \n            \n        </head>\n        <body>\n            <div><p style='padding: 10px; color: #b94a48; background-color: #f2dede; border-color: #eed3d7'>KqlError:&nbsp;{&quot;error&quot;:{&quot;message&quot;:&quot;The&nbsp;requested&nbsp;path&nbsp;does&nbsp;not&nbsp;exist&quot;,&quot;code&quot;:&quot;PathNotFoundError&quot;,&quot;correlationId&quot;:&quot;25f977f4-6af2-4435-baab-432fdb545ace&quot;}}</p></div>\n        </body>\n        </html>"
                    },
                    "metadata": {},
                    "output_type": "display_data"
                }
            ],
            "execution_count": 18
        },
        {
            "cell_type": "code",
            "source": [
                "%%kql\r\n",
                "let _aadTenantId = aadTenantId;\r\n",
                "let _environmentName = environmentName;\r\n",
                "let _startDate = startDate;\r\n",
                "let _endDate = endDate;\r\n",
                "traces\r\n",
                "| where 1==1 \r\n",
                "    and timestamp >= todatetime(_startDate)\r\n",
                "    and timestamp <= todatetime(_endDate) + totimespan(24h) - totimespan(1ms)   \r\n",
                "    and customDimensions.aadTenantId == _aadTenantId\r\n",
                "    and customDimensions.environmentName == _environmentName\r\n",
                "    and customDimensions.eventId == 'RT0008'\r\n",
                "| extend category = tostring( customDimensions.category )\r\n",
                "       , executionTimeInMS = toreal(totimespan(customDimensions.serverExecutionTime))/10000 //the datatype for executionTime is timespan \r\n",
                "| summarize count() by executionTime_ms = bin(executionTimeInMS, 100), category\r\n",
                "| extend log_count = log10( count_ )\r\n",
                "| order by category, executionTime_ms asc\r\n",
                "| render columnchart with  (ycolumns = log_count, ytitle='log(count)', series = category, title= 'Execution time (in milliseconds) of incoming ws requests by category' ) "
            ],
            "metadata": {
                "azdata_cell_guid": "e4e56e1a-ab5d-427a-bc49-747e6ae34a75"
            },
            "outputs": [
                {
                    "data": {
                        "text/plain": "<IPython.core.display.HTML object>",
                        "text/html": "<html>\n        <head>\n            \n            \n        </head>\n        <body>\n            <div><p style='padding: 10px; color: #3a87ad; background-color: #d9edf7; border-color: #bce9f1'>&nbsp;&nbsp;&nbsp;962fbf96-f15e-4d37-8f91-13cae96f4b3e@applicationinsights<br>&nbsp;*&nbsp;add_Application_ID_id_from_the_Application_Insights_portal_under_API_access@applicationinsights</p></div>\n        </body>\n        </html>"
                    },
                    "metadata": {},
                    "output_type": "display_data"
                },
                {
                    "data": {
                        "text/plain": "<IPython.core.display.HTML object>",
                        "text/html": "<html>\n        <head>\n            \n            \n        </head>\n        <body>\n            <div><p style='padding: 10px; color: #b94a48; background-color: #f2dede; border-color: #eed3d7'>KqlError:&nbsp;{&quot;error&quot;:{&quot;message&quot;:&quot;The&nbsp;requested&nbsp;path&nbsp;does&nbsp;not&nbsp;exist&quot;,&quot;code&quot;:&quot;PathNotFoundError&quot;,&quot;correlationId&quot;:&quot;393c517f-e916-4af4-99c4-5e12ac889196&quot;}}</p></div>\n        </body>\n        </html>"
                    },
                    "metadata": {},
                    "output_type": "display_data"
                }
            ],
            "execution_count": 19
        },
        {
            "cell_type": "markdown",
            "source": [
                "## Incoming Web service throttling\n",
                "\n",
                "Operational Limits for Business Central Online:\n",
                "\n",
                "-   [https://docs.microsoft.com/en-us/dynamics365/business-central/dev-itpro/administration/operational-limits-online#query-limits](https://docs.microsoft.com/en-us/dynamics365/business-central/dev-itpro/administration/operational-limits-online#query-limits)\n",
                "\n",
                "Telemetry docs:\n",
                "\n",
                "-   [https://docs.microsoft.com/en-us/dynamics365/business-central/dev-itpro/administration/telemetry-webservices-trace](https://docs.microsoft.com/en-us/dynamics365/business-central/dev-itpro/administration/telemetry-webservices-trace)"
            ],
            "metadata": {
                "azdata_cell_guid": "2f7e604a-0d02-484e-9bcb-a6aa148d5f0b"
            }
        },
        {
            "cell_type": "code",
            "source": [
                "%%kql\r\n",
                "let _aadTenantId = aadTenantId;\r\n",
                "let _environmentName = environmentName;\r\n",
                "let _startDate = startDate;\r\n",
                "let _endDate = endDate;\r\n",
                "traces\r\n",
                "| where 1==1 \r\n",
                "    and timestamp >= todatetime(_startDate)\r\n",
                "    and timestamp <= todatetime(_endDate) + totimespan(24h) - totimespan(1ms)   \r\n",
                "    and customDimensions.aadTenantId == _aadTenantId\r\n",
                "    and customDimensions.environmentName == _environmentName\r\n",
                "    and customDimensions.eventId == 'RT0008'\r\n",
                "| extend httpStatusCode = tostring( customDimensions.httpStatusCode )\r\n",
                "| summarize count() by bin(timestamp, 1d), httpStatusCode\r\n",
                "| render timechart title= 'Number of incoming web service requests by http status code'"
            ],
            "metadata": {
                "azdata_cell_guid": "9ec9b678-7d66-4758-9101-4e9e5025dfcf",
                "tags": []
            },
            "outputs": [
                {
                    "data": {
                        "text/plain": "<IPython.core.display.HTML object>",
                        "text/html": "<html>\n        <head>\n            \n            \n        </head>\n        <body>\n            <div><p style='padding: 10px; color: #3a87ad; background-color: #d9edf7; border-color: #bce9f1'>&nbsp;&nbsp;&nbsp;962fbf96-f15e-4d37-8f91-13cae96f4b3e@applicationinsights<br>&nbsp;*&nbsp;add_Application_ID_id_from_the_Application_Insights_portal_under_API_access@applicationinsights</p></div>\n        </body>\n        </html>"
                    },
                    "metadata": {},
                    "output_type": "display_data"
                },
                {
                    "data": {
                        "text/plain": "<IPython.core.display.HTML object>",
                        "text/html": "<html>\n        <head>\n            \n            \n        </head>\n        <body>\n            <div><p style='padding: 10px; color: #b94a48; background-color: #f2dede; border-color: #eed3d7'>KqlError:&nbsp;{&quot;error&quot;:{&quot;message&quot;:&quot;The&nbsp;requested&nbsp;path&nbsp;does&nbsp;not&nbsp;exist&quot;,&quot;code&quot;:&quot;PathNotFoundError&quot;,&quot;correlationId&quot;:&quot;e05a75b2-84b6-4376-99bc-7db696a4c535&quot;}}</p></div>\n        </body>\n        </html>"
                    },
                    "metadata": {},
                    "output_type": "display_data"
                }
            ],
            "execution_count": 20
        },
        {
            "cell_type": "markdown",
            "source": [
                "## Incoming Web service requests (Access denied)\n",
                "\n",
                "The user who made the request doesn't have proper permissions. For more information, see\n",
                "\n",
                "-   [https://docs.microsoft.com/en-us/dynamics365/business-central/dev-itpro/webservices/web-services-authentication](https://docs.microsoft.com/en-us/dynamics365/business-central/dev-itpro/webservices/web-services-authentication)\n",
                "-   [https://docs.microsoft.com/en-us/dynamics365/business-central/ui-define-granular-permissions](https://docs.microsoft.com/en-us/dynamics365/business-central/ui-define-granular-permissions)\n",
                "\n",
                "Telemetry docs:\n",
                "\n",
                "-   [https://docs.microsoft.com/en-us/dynamics365/business-central/dev-itpro/administration/telemetry-webservices-trace](https://docs.microsoft.com/en-us/dynamics365/business-central/dev-itpro/administration/telemetry-webservices-trace)"
            ],
            "metadata": {
                "azdata_cell_guid": "f6a9d2d3-26b9-4536-b279-d126e5cd5609"
            }
        },
        {
            "cell_type": "code",
            "source": [
                "%%kql\r\n",
                "//\r\n",
                "// Top 10 endpoint requests with access denied\r\n",
                "//\r\n",
                "let _aadTenantId = aadTenantId;\r\n",
                "let _environmentName = environmentName;\r\n",
                "let _startDate = startDate;\r\n",
                "let _endDate = endDate;\r\n",
                "traces\r\n",
                "| where 1==1 \r\n",
                "    and timestamp >= todatetime(_startDate)\r\n",
                "    and timestamp <= todatetime(_endDate) + totimespan(24h) - totimespan(1ms)   \r\n",
                "    and customDimensions.aadTenantId == _aadTenantId\r\n",
                "    and customDimensions.environmentName == _environmentName\r\n",
                "    and customDimensions.eventId == 'RT0008'\r\n",
                "    and customDimensions.httpStatusCode == '401'\r\n",
                "| limit 10"
            ],
            "metadata": {
                "azdata_cell_guid": "ef3d4e9f-42bb-4492-bc3b-f88b33dcbdea"
            },
            "outputs": [
                {
                    "data": {
                        "text/plain": "<IPython.core.display.HTML object>",
                        "text/html": "<html>\n        <head>\n            \n            \n        </head>\n        <body>\n            <div><p style='padding: 10px; color: #3a87ad; background-color: #d9edf7; border-color: #bce9f1'>&nbsp;&nbsp;&nbsp;962fbf96-f15e-4d37-8f91-13cae96f4b3e@applicationinsights<br>&nbsp;*&nbsp;add_Application_ID_id_from_the_Application_Insights_portal_under_API_access@applicationinsights</p></div>\n        </body>\n        </html>"
                    },
                    "metadata": {},
                    "output_type": "display_data"
                },
                {
                    "data": {
                        "text/plain": "<IPython.core.display.HTML object>",
                        "text/html": "<html>\n        <head>\n            \n            \n        </head>\n        <body>\n            <div><p style='padding: 10px; color: #b94a48; background-color: #f2dede; border-color: #eed3d7'>KqlError:&nbsp;{&quot;error&quot;:{&quot;message&quot;:&quot;The&nbsp;requested&nbsp;path&nbsp;does&nbsp;not&nbsp;exist&quot;,&quot;code&quot;:&quot;PathNotFoundError&quot;,&quot;correlationId&quot;:&quot;df82e259-7f54-4eec-a923-293ebc6a384f&quot;}}</p></div>\n        </body>\n        </html>"
                    },
                    "metadata": {},
                    "output_type": "display_data"
                }
            ],
            "execution_count": 21
        },
        {
            "cell_type": "markdown",
            "source": [
                "## Incoming Web service requests (Not found)\n",
                "\n",
                "The given endpoint was not valid\n",
                "\n",
                "See\n",
                "\n",
                "-   [https://docs.microsoft.com/en-us/dynamics365/business-central/dev-itpro/webservices/publish-web-service](https://docs.microsoft.com/en-us/dynamics365/business-central/dev-itpro/webservices/publish-web-service)\n",
                "\n",
                "Telemetry docs:\n",
                "\n",
                "-   [https://docs.microsoft.com/en-us/dynamics365/business-central/dev-itpro/administration/telemetry-webservices-trace](https://docs.microsoft.com/en-us/dynamics365/business-central/dev-itpro/administration/telemetry-webservices-trace)"
            ],
            "metadata": {
                "azdata_cell_guid": "ffc66241-e49a-46c3-953c-edb1e3d1ef75"
            }
        },
        {
            "cell_type": "code",
            "source": [
                "%%kql\r\n",
                "//\r\n",
                "// Top 10 non-valid endpoints called\r\n",
                "//\r\n",
                "let _aadTenantId = aadTenantId;\r\n",
                "let _environmentName = environmentName;\r\n",
                "let _startDate = startDate;\r\n",
                "let _endDate = endDate;\r\n",
                "traces\r\n",
                "| where 1==1 \r\n",
                "    and timestamp >= todatetime(_startDate)\r\n",
                "    and timestamp <= todatetime(_endDate) + totimespan(24h) - totimespan(1ms)   \r\n",
                "    and customDimensions.aadTenantId == _aadTenantId\r\n",
                "    and customDimensions.environmentName == _environmentName\r\n",
                "    and customDimensions.eventId == 'RT0008'\r\n",
                "    and customDimensions.httpStatusCode == '404'\r\n",
                "| summarize number_of_requests=count() by endpoint = tostring( customDimensions.endpoint ), alObjectName = tostring( customDimensions.alObjectName ), alObjectId = tostring( customDimensions.alObjectId )\r\n",
                "| order by number_of_requests desc\r\n",
                "| limit 10"
            ],
            "metadata": {
                "azdata_cell_guid": "09e649eb-d8bb-43e8-8f8b-ff07c8cda005"
            },
            "outputs": [
                {
                    "data": {
                        "text/plain": "<IPython.core.display.HTML object>",
                        "text/html": "<html>\n        <head>\n            \n            \n        </head>\n        <body>\n            <div><p style='padding: 10px; color: #3a87ad; background-color: #d9edf7; border-color: #bce9f1'>&nbsp;&nbsp;&nbsp;962fbf96-f15e-4d37-8f91-13cae96f4b3e@applicationinsights<br>&nbsp;*&nbsp;add_Application_ID_id_from_the_Application_Insights_portal_under_API_access@applicationinsights</p></div>\n        </body>\n        </html>"
                    },
                    "metadata": {},
                    "output_type": "display_data"
                },
                {
                    "data": {
                        "text/plain": "<IPython.core.display.HTML object>",
                        "text/html": "<html>\n        <head>\n            \n            \n        </head>\n        <body>\n            <div><p style='padding: 10px; color: #b94a48; background-color: #f2dede; border-color: #eed3d7'>KqlError:&nbsp;{&quot;error&quot;:{&quot;message&quot;:&quot;The&nbsp;requested&nbsp;path&nbsp;does&nbsp;not&nbsp;exist&quot;,&quot;code&quot;:&quot;PathNotFoundError&quot;,&quot;correlationId&quot;:&quot;aaf4afd4-907c-4e2d-9aa9-0e90893eef3e&quot;}}</p></div>\n        </body>\n        </html>"
                    },
                    "metadata": {},
                    "output_type": "display_data"
                }
            ],
            "execution_count": 22
        },
        {
            "cell_type": "markdown",
            "source": [
                "## Incoming Web service requests (Request timed out)\n",
                "\n",
                "The request took longer to complete than the threshold configured for the service\n",
                "\n",
                "See\n",
                "\n",
                "-   [https://docs.microsoft.com/en-us/dynamics365/business-central/dev-itpro/administration/operational-limits-online#ODataServices](https://docs.microsoft.com/en-us/dynamics365/business-central/dev-itpro/administration/operational-limits-online#ODataServices)\n",
                "\n",
                "Telemetry docs:\n",
                "\n",
                "-   [https://docs.microsoft.com/en-us/dynamics365/business-central/dev-itpro/administration/telemetry-webservices-trace](https://docs.microsoft.com/en-us/dynamics365/business-central/dev-itpro/administration/telemetry-webservices-trace)\n",
                "\n",
                "Performance tuning guide (you need to tune these endpoints to make them go faster)\n",
                "\n",
                "-   [https://docs.microsoft.com/en-us/dynamics365/business-central/dev-itpro/performance/performance-developer#writing-efficient-web-services](https://docs.microsoft.com/en-us/dynamics365/business-central/dev-itpro/performance/performance-developer#writing-efficient-web-services)"
            ],
            "metadata": {
                "azdata_cell_guid": "66ab172d-9d99-4228-98c7-68a4113a91a0"
            }
        },
        {
            "cell_type": "code",
            "source": [
                "%%kql\r\n",
                "//\r\n",
                "// Top 10 endpoints that times out\r\n",
                "//\r\n",
                "let _aadTenantId = aadTenantId;\r\n",
                "let _environmentName = environmentName;\r\n",
                "let _startDate = startDate;\r\n",
                "let _endDate = endDate;\r\n",
                "traces\r\n",
                "| where 1==1 \r\n",
                "    and timestamp >= todatetime(_startDate)\r\n",
                "    and timestamp <= todatetime(_endDate) + totimespan(24h) - totimespan(1ms)   \r\n",
                "    and customDimensions.aadTenantId == _aadTenantId\r\n",
                "    and customDimensions.environmentName == _environmentName\r\n",
                "    and customDimensions.eventId == 'RT0008'\r\n",
                "    and customDimensions.httpStatusCode == '408'\r\n",
                "| summarize number_of_requests=count() by endpoint = tostring( customDimensions.endpoint ), alObjectName = tostring( customDimensions.alObjectName ), alObjectId = tostring( customDimensions.alObjectId )\r\n",
                "| order by number_of_requests desc\r\n",
                "| limit 10"
            ],
            "metadata": {
                "azdata_cell_guid": "f29afa7f-6408-4e85-a613-605d9898574d"
            },
            "outputs": [
                {
                    "data": {
                        "text/plain": "<IPython.core.display.HTML object>",
                        "text/html": "<html>\n        <head>\n            \n            \n        </head>\n        <body>\n            <div><p style='padding: 10px; color: #3a87ad; background-color: #d9edf7; border-color: #bce9f1'>&nbsp;&nbsp;&nbsp;962fbf96-f15e-4d37-8f91-13cae96f4b3e@applicationinsights<br>&nbsp;*&nbsp;add_Application_ID_id_from_the_Application_Insights_portal_under_API_access@applicationinsights</p></div>\n        </body>\n        </html>"
                    },
                    "metadata": {},
                    "output_type": "display_data"
                },
                {
                    "data": {
                        "text/plain": "<IPython.core.display.HTML object>",
                        "text/html": "<html>\n        <head>\n            \n            \n        </head>\n        <body>\n            <div><p style='padding: 10px; color: #b94a48; background-color: #f2dede; border-color: #eed3d7'>KqlError:&nbsp;{&quot;error&quot;:{&quot;message&quot;:&quot;The&nbsp;requested&nbsp;path&nbsp;does&nbsp;not&nbsp;exist&quot;,&quot;code&quot;:&quot;PathNotFoundError&quot;,&quot;correlationId&quot;:&quot;681c83d1-0662-42a4-8081-f9207f6dbc34&quot;}}</p></div>\n        </body>\n        </html>"
                    },
                    "metadata": {},
                    "output_type": "display_data"
                }
            ],
            "execution_count": 23
        },
        {
            "cell_type": "markdown",
            "source": [
                "## Incoming Web service requests (Too Many Requests)\n",
                "\n",
                "The request exceeded the maximum simultaneous requests allowed on the service.\n",
                "\n",
                "See\n",
                "\n",
                "-   [https://docs.microsoft.com/en-us/dynamics365/business-central/dev-itpro/administration/operational-limits-online#ODataServices](https://docs.microsoft.com/en-us/dynamics365/business-central/dev-itpro/administration/operational-limits-online#ODataServices)\n",
                "\n",
                "Telemetry docs:\n",
                "\n",
                "-   [https://docs.microsoft.com/en-us/dynamics365/business-central/dev-itpro/administration/telemetry-webservices-trace](https://docs.microsoft.com/en-us/dynamics365/business-central/dev-itpro/administration/telemetry-webservices-trace)\n",
                "\n",
                "Performance tuning guide (you need to make your web service client back-off and retry)\n",
                "\n",
                "-   [https://docs.microsoft.com/en-us/dynamics365/business-central/dev-itpro/performance/performance-developer#writing-efficient-web-services](https://docs.microsoft.com/en-us/dynamics365/business-central/dev-itpro/performance/performance-developer#writing-efficient-web-services)"
            ],
            "metadata": {
                "azdata_cell_guid": "68241327-780a-4766-9e51-b37f90d595dc"
            }
        },
        {
            "cell_type": "code",
            "source": [
                "%%kql\r\n",
                "//\r\n",
                "// Top 10 endpoints get throttled\r\n",
                "//\r\n",
                "let _aadTenantId = aadTenantId;\r\n",
                "let _environmentName = environmentName;\r\n",
                "let _startDate = startDate;\r\n",
                "let _endDate = endDate;\r\n",
                "traces\r\n",
                "| where 1==1 \r\n",
                "    and timestamp >= todatetime(_startDate)\r\n",
                "    and timestamp <= todatetime(_endDate) + totimespan(24h) - totimespan(1ms)   \r\n",
                "    and customDimensions.aadTenantId == _aadTenantId\r\n",
                "    and customDimensions.environmentName == _environmentName\r\n",
                "    and customDimensions.eventId == 'RT0008'\r\n",
                "    and customDimensions.httpStatusCode == '426'\r\n",
                "| summarize number_of_requests=count() by endpoint = tostring( customDimensions.endpoint ), alObjectName = tostring( customDimensions.alObjectName ), alObjectId = tostring( customDimensions.alObjectId )\r\n",
                "| order by number_of_requests desc\r\n",
                "| limit 10"
            ],
            "metadata": {
                "azdata_cell_guid": "2c9888bb-6306-4b67-a545-a40ea5f97f60"
            },
            "outputs": [
                {
                    "data": {
                        "text/plain": "<IPython.core.display.HTML object>",
                        "text/html": "<html>\n        <head>\n            \n            \n        </head>\n        <body>\n            <div><p style='padding: 10px; color: #3a87ad; background-color: #d9edf7; border-color: #bce9f1'>&nbsp;&nbsp;&nbsp;962fbf96-f15e-4d37-8f91-13cae96f4b3e@applicationinsights<br>&nbsp;*&nbsp;add_Application_ID_id_from_the_Application_Insights_portal_under_API_access@applicationinsights</p></div>\n        </body>\n        </html>"
                    },
                    "metadata": {},
                    "output_type": "display_data"
                },
                {
                    "data": {
                        "text/plain": "<IPython.core.display.HTML object>",
                        "text/html": "<html>\n        <head>\n            \n            \n        </head>\n        <body>\n            <div><p style='padding: 10px; color: #b94a48; background-color: #f2dede; border-color: #eed3d7'>KqlError:&nbsp;{&quot;error&quot;:{&quot;message&quot;:&quot;The&nbsp;requested&nbsp;path&nbsp;does&nbsp;not&nbsp;exist&quot;,&quot;code&quot;:&quot;PathNotFoundError&quot;,&quot;correlationId&quot;:&quot;2b5aed4e-424a-4826-82f5-94b18fe3a822&quot;}}</p></div>\n        </body>\n        </html>"
                    },
                    "metadata": {},
                    "output_type": "display_data"
                }
            ],
            "execution_count": 24
        },
        {
            "cell_type": "markdown",
            "source": [
                "## (Outgoing) web service requests overview \n",
                "\n",
                "Performance tuning guide: [https://docs.microsoft.com/en-us/dynamics365/business-central/dev-itpro/performance/performance-developer#web-service-client-performance](https://docs.microsoft.com/en-us/dynamics365/business-central/dev-itpro/performance/performance-developer#writing-efficient-web-services)\n",
                "\n",
                "Outgoing Web service telemetry docs: [https://docs.microsoft.com/en-us/dynamics365/business-central/dev-itpro/administration/telemetry-webservices-outgoing-trace](https://docs.microsoft.com/en-us/dynamics365/business-central/dev-itpro/administration/telemetry-webservices-outgoing-trace) \n",
                "\n",
                "KQL sample: [https://github.com/microsoft/BCTech/blob/master/samples/AppInsights/KQL/RawData/OutGoingWebServiceCalls.kql](https://github.com/microsoft/BCTech/blob/master/samples/AppInsights/KQL/RawData/OutGoingWebServiceCalls.kql) \n",
                "\n",
                "Explanation of different HTTP status codes: [https://en.wikipedia.org/wiki/List_of_HTTP_status_codes](https://en.wikipedia.org/wiki/List_of_HTTP_status_codes)"
            ],
            "metadata": {
                "azdata_cell_guid": "8cf2c901-ced8-46f3-93ef-4ccb3eaad891"
            }
        },
        {
            "cell_type": "code",
            "source": [
                "%%kql\r\n",
                "let _aadTenantId = aadTenantId;\r\n",
                "let _environmentName = environmentName;\r\n",
                "let _startDate = startDate;\r\n",
                "let _endDate = endDate;\r\n",
                "traces\r\n",
                "| where 1==1 \r\n",
                "    and timestamp >= todatetime(_startDate)\r\n",
                "    and timestamp <= todatetime(_endDate) + totimespan(24h) - totimespan(1ms)    \r\n",
                "    and customDimensions.aadTenantId == _aadTenantId\r\n",
                "    and customDimensions.environmentName == _environmentName\r\n",
                "    and customDimensions.eventId == 'RT0019'\r\n",
                "|extend httpStatusCode = tostring( customDimensions.httpReturnCode )\r\n",
                "| summarize request_count=count() by httpStatusCode, bin(timestamp, 1d)\r\n",
                "| order by httpStatusCode asc\r\n",
                "| render timechart title= 'Number of outgoing web service requests by HTTP status code'"
            ],
            "metadata": {
                "azdata_cell_guid": "5eb83b4b-9d27-46a7-b715-a9b2511a132d"
            },
            "outputs": [
                {
                    "data": {
                        "text/plain": "<IPython.core.display.HTML object>",
                        "text/html": "<html>\n        <head>\n            \n            \n        </head>\n        <body>\n            <div><p style='padding: 10px; color: #3a87ad; background-color: #d9edf7; border-color: #bce9f1'>&nbsp;&nbsp;&nbsp;962fbf96-f15e-4d37-8f91-13cae96f4b3e@applicationinsights<br>&nbsp;*&nbsp;add_Application_ID_id_from_the_Application_Insights_portal_under_API_access@applicationinsights</p></div>\n        </body>\n        </html>"
                    },
                    "metadata": {},
                    "output_type": "display_data"
                },
                {
                    "data": {
                        "text/plain": "<IPython.core.display.HTML object>",
                        "text/html": "<html>\n        <head>\n            \n            \n        </head>\n        <body>\n            <div><p style='padding: 10px; color: #b94a48; background-color: #f2dede; border-color: #eed3d7'>KqlError:&nbsp;{&quot;error&quot;:{&quot;message&quot;:&quot;The&nbsp;requested&nbsp;path&nbsp;does&nbsp;not&nbsp;exist&quot;,&quot;code&quot;:&quot;PathNotFoundError&quot;,&quot;correlationId&quot;:&quot;898aee5c-fef3-456e-a3ba-786481aa54a2&quot;}}</p></div>\n        </body>\n        </html>"
                    },
                    "metadata": {},
                    "output_type": "display_data"
                }
            ],
            "execution_count": 25
        },
        {
            "cell_type": "code",
            "source": [
                "%%kql\r\n",
                "let _aadTenantId = aadTenantId;\r\n",
                "let _environmentName = environmentName;\r\n",
                "let _startDate = startDate;\r\n",
                "let _endDate = endDate;\r\n",
                "traces\r\n",
                "| where 1==1 \r\n",
                "    and timestamp >= todatetime(_startDate)\r\n",
                "    and timestamp <= todatetime(_endDate) + totimespan(24h) - totimespan(1ms)        \r\n",
                "    and customDimensions.aadTenantId == _aadTenantId\r\n",
                "    and customDimensions.environmentName == _environmentName\r\n",
                "    and customDimensions.eventId == 'RT0019'\r\n",
                "| extend httpMethod = tostring( toupper( customDimensions.httpMethod ) )\r\n",
                "       , executionTimeInSec = toreal(totimespan(customDimensions.serverExecutionTime))/10000 /1000 //the datatype for executionTime is timespan \r\n",
                "| where executionTimeInSec <= 10\r\n",
                "| summarize count() by executionTime_sec = bin(executionTimeInSec, 1), httpMethod\r\n",
                "| extend log_count = log10( count_ )\r\n",
                "| order by httpMethod, executionTime_sec asc\r\n",
                "| render columnchart with  (ycolumns = log_count, ytitle='log10(count)', series = httpMethod, title= 'Execution time (seconds) of \"normal\" outgoing ws requests by method' ) \r\n",
                ""
            ],
            "metadata": {
                "azdata_cell_guid": "0ee463d9-4e13-4254-a338-cf0103d7e911"
            },
            "outputs": [
                {
                    "data": {
                        "text/plain": "<IPython.core.display.HTML object>",
                        "text/html": "<html>\n        <head>\n            \n            \n        </head>\n        <body>\n            <div><p style='padding: 10px; color: #3a87ad; background-color: #d9edf7; border-color: #bce9f1'>&nbsp;&nbsp;&nbsp;962fbf96-f15e-4d37-8f91-13cae96f4b3e@applicationinsights<br>&nbsp;*&nbsp;add_Application_ID_id_from_the_Application_Insights_portal_under_API_access@applicationinsights</p></div>\n        </body>\n        </html>"
                    },
                    "metadata": {},
                    "output_type": "display_data"
                },
                {
                    "data": {
                        "text/plain": "<IPython.core.display.HTML object>",
                        "text/html": "<html>\n        <head>\n            \n            \n        </head>\n        <body>\n            <div><p style='padding: 10px; color: #b94a48; background-color: #f2dede; border-color: #eed3d7'>KqlError:&nbsp;{&quot;error&quot;:{&quot;message&quot;:&quot;The&nbsp;requested&nbsp;path&nbsp;does&nbsp;not&nbsp;exist&quot;,&quot;code&quot;:&quot;PathNotFoundError&quot;,&quot;correlationId&quot;:&quot;3da4cef4-dc34-4820-9931-c56bbdb4683f&quot;}}</p></div>\n        </body>\n        </html>"
                    },
                    "metadata": {},
                    "output_type": "display_data"
                }
            ],
            "execution_count": 26
        },
        {
            "cell_type": "code",
            "source": [
                "%%kql\r\n",
                "let _aadTenantId = aadTenantId;\r\n",
                "let _environmentName = environmentName;\r\n",
                "let _startDate = startDate;\r\n",
                "let _endDate = endDate;\r\n",
                "traces\r\n",
                "| where 1==1 \r\n",
                "    and timestamp >= todatetime(_startDate)\r\n",
                "    and timestamp <= todatetime(_endDate) + totimespan(24h) - totimespan(1ms)        \r\n",
                "    and customDimensions.aadTenantId == _aadTenantId\r\n",
                "    and customDimensions.environmentName == _environmentName\r\n",
                "    and customDimensions.eventId == 'RT0019'\r\n",
                "| extend httpMethod = tostring( toupper( customDimensions.httpMethod ) )\r\n",
                "       , executionTimeInSec = toreal(totimespan(customDimensions.serverExecutionTime))/10000 /1000 //the datatype for executionTime is timespan \r\n",
                "| where executionTimeInSec > 10\r\n",
                "| summarize count() by executionTime_sec = bin(executionTimeInSec, 10), httpMethod\r\n",
                "| extend log_count = log10( count_ )\r\n",
                "| order by httpMethod, executionTime_sec asc\r\n",
                "| render columnchart with  (ycolumns = log_count, ytitle='log10(count)', series = httpMethod, title= 'Execution time (seconds) of slow outgoing ws requests by method' ) \r\n",
                ""
            ],
            "metadata": {
                "azdata_cell_guid": "256174e8-1bc2-443b-808f-792db77637a4"
            },
            "outputs": [
                {
                    "data": {
                        "text/plain": "<IPython.core.display.HTML object>",
                        "text/html": "<html>\n        <head>\n            \n            \n        </head>\n        <body>\n            <div><p style='padding: 10px; color: #3a87ad; background-color: #d9edf7; border-color: #bce9f1'>&nbsp;&nbsp;&nbsp;962fbf96-f15e-4d37-8f91-13cae96f4b3e@applicationinsights<br>&nbsp;*&nbsp;add_Application_ID_id_from_the_Application_Insights_portal_under_API_access@applicationinsights</p></div>\n        </body>\n        </html>"
                    },
                    "metadata": {},
                    "output_type": "display_data"
                },
                {
                    "data": {
                        "text/plain": "<IPython.core.display.HTML object>",
                        "text/html": "<html>\n        <head>\n            \n            \n        </head>\n        <body>\n            <div><p style='padding: 10px; color: #b94a48; background-color: #f2dede; border-color: #eed3d7'>KqlError:&nbsp;{&quot;error&quot;:{&quot;message&quot;:&quot;The&nbsp;requested&nbsp;path&nbsp;does&nbsp;not&nbsp;exist&quot;,&quot;code&quot;:&quot;PathNotFoundError&quot;,&quot;correlationId&quot;:&quot;5cc0b5e1-20f2-4d27-8b0e-5015a17a6eb9&quot;}}</p></div>\n        </body>\n        </html>"
                    },
                    "metadata": {},
                    "output_type": "display_data"
                }
            ],
            "execution_count": 27
        },
        {
            "cell_type": "code",
            "source": [
                "%%kql\r\n",
                "//\r\n",
                "// Top 20 most expensive outgoing calls\r\n",
                "//\r\n",
                "// Includes descriptive statistics avg, min, max, and 95 percentile for execution time and number of calls\r\n",
                "//\r\n",
                "let _aadTenantId = aadTenantId;\r\n",
                "let _environmentName = environmentName;\r\n",
                "let _startDate = startDate;\r\n",
                "let _endDate = endDate;\r\n",
                "traces\r\n",
                "| where 1==1 \r\n",
                "    and timestamp >= todatetime(_startDate)\r\n",
                "    and timestamp <= todatetime(_endDate) + totimespan(24h) - totimespan(1ms)    \r\n",
                "    and customDimensions.aadTenantId == _aadTenantId\r\n",
                "    and customDimensions.environmentName == _environmentName\r\n",
                "    and customDimensions.eventId == 'RT0019'\r\n",
                "| extend httpMethod = tostring( toupper( customDimensions.httpMethod ) )\r\n",
                "       , executionTimeInMS = toreal(totimespan(customDimensions.serverExecutionTime))/10000 //the datatype for executionTime is timespan \r\n",
                "       , alObjectId = tostring( customDimensions.alObjectId )\r\n",
                "       , alObjectName = tostring( customDimensions.alObjectName )\r\n",
                "       , alObjectType = tostring( customDimensions.alObjectType )\r\n",
                ", endpoint = tostring( customDimensions.endpoint )\r\n",
                ", extensionId = tostring( customDimensions.extensionId )\r\n",
                ", extensionName = tostring( customDimensions.extensionName )\r\n",
                ", extensionVersion = tostring( customDimensions.extensionVersion )\r\n",
                "| summarize avg(executionTimeInMS), min(executionTimeInMS), max(executionTimeInMS),percentile(executionTimeInMS,95), count() by \r\n",
                "  httpMethod\r\n",
                ", alObjectId, alObjectName, alObjectType\r\n",
                ", extensionId, extensionName, extensionVersion\r\n",
                ", endpoint\r\n",
                "| order by avg_executionTimeInMS desc\r\n",
                "| project avg_timeInSec=round(avg_executionTimeInMS/1000,2)\r\n",
                ", min_timeInSec=round(min_executionTimeInMS/1000,2)\r\n",
                ", max_timeInSec=round(max_executionTimeInMS/1000,2)\r\n",
                ", perc_95InSec=round(percentile_executionTimeInMS_95/1000,2), count_, alObjectId, alObjectName, alObjectType, extensionId, extensionName, extensionVersion, httpMethod, endpoint\r\n",
                "| limit 20"
            ],
            "metadata": {
                "azdata_cell_guid": "7d0df460-9d0c-4ff7-87a6-87a44b99b22d"
            },
            "outputs": [
                {
                    "data": {
                        "text/plain": "<IPython.core.display.HTML object>",
                        "text/html": "<html>\n        <head>\n            \n            \n        </head>\n        <body>\n            <div><p style='padding: 10px; color: #3a87ad; background-color: #d9edf7; border-color: #bce9f1'>&nbsp;&nbsp;&nbsp;962fbf96-f15e-4d37-8f91-13cae96f4b3e@applicationinsights<br>&nbsp;*&nbsp;add_Application_ID_id_from_the_Application_Insights_portal_under_API_access@applicationinsights</p></div>\n        </body>\n        </html>"
                    },
                    "metadata": {},
                    "output_type": "display_data"
                },
                {
                    "data": {
                        "text/plain": "<IPython.core.display.HTML object>",
                        "text/html": "<html>\n        <head>\n            \n            \n        </head>\n        <body>\n            <div><p style='padding: 10px; color: #b94a48; background-color: #f2dede; border-color: #eed3d7'>KqlError:&nbsp;{&quot;error&quot;:{&quot;message&quot;:&quot;The&nbsp;requested&nbsp;path&nbsp;does&nbsp;not&nbsp;exist&quot;,&quot;code&quot;:&quot;PathNotFoundError&quot;,&quot;correlationId&quot;:&quot;1c82f5b1-383f-4cb0-a8d6-2c030965933e&quot;}}</p></div>\n        </body>\n        </html>"
                    },
                    "metadata": {},
                    "output_type": "display_data"
                }
            ],
            "execution_count": 28
        }
    ]
}