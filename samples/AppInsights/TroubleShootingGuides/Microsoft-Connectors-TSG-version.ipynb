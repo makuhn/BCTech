{
    "metadata": {
        "kernelspec": {
            "name": "python3",
            "display_name": "Python 3"
        },
        "language_info": {
            "name": "python",
            "version": "3.6.6",
            "mimetype": "text/x-python",
            "codemirror_mode": {
                "name": "ipython",
                "version": 3
            },
            "pygments_lexer": "ipython3",
            "nbconvert_exporter": "python",
            "file_extension": ".py"
        }
    },
    "nbformat_minor": 2,
    "nbformat": 4,
    "cells": [
        {
            "cell_type": "markdown",
            "source": [
                "# Dynamics 365 Business Central Trouble Shooting Guide (TSG) - Connectors (PowerBI, PowerApps, LogicApps, or Flow)\r\n",
                "\r\n",
                "This notebook contains Kusto queries that can help getting to the root cause of an issue with usage of any of the connectors from PowerBI, PowerApps, LogicApps, or Flow. \r\n",
                "\r\n",
                "Each section in the notebook contains links to relevant documentation from the performance tuning guide [aka.ms/bcperformance](aka.ms/bcperformance),   telemetry documentation in [aka.ms/bctelemetry](aka.ms/bctelemetry), as well as Kusto queries that help dive into a specific area.\r\n",
                "\r\n",
                "NB! The signal used in this notebook is only available in versions 16.3 (or newer) of Business Central, so check the version of your environment if some sections do not return any data."
            ],
            "metadata": {
                "azdata_cell_guid": "1f608a1d-2436-4b48-80d4-5c4d2f8ca7d0"
            }
        },
        {
            "cell_type": "markdown",
            "source": [
                "## 1. Connect to Kusto\r\n",
                "First you need to set the notebook Kernel to Python3, load the KQLmagic module (did you install it?) and connect to Kusto"
            ],
            "metadata": {
                "azdata_cell_guid": "f103fae9-cf6d-40f7-9062-11ce50691046"
            }
        },
        {
            "cell_type": "code",
            "source": [
                "# load the KQLmagic module\r\n",
                "%reload_ext Kqlmagic"
            ],
            "metadata": {
                "azdata_cell_guid": "5d02aa4b-9e41-474f-b643-2fbd482077af"
            },
            "outputs": [],
            "execution_count": 33
        },
        {
            "cell_type": "code",
            "source": [
                "# Connect to the Application Insights API\r\n",
                "%kql appinsights://appid='<add app id from the Application Insights portal>';appkey='<add API key from the Application Insights portal>'\r\n",
                ""
            ],
            "metadata": {
                "azdata_cell_guid": "a253fa8e-6ac2-4722-a00a-1c52aedab4ed",
                "tags": []
            },
            "outputs": [
                {
                    "output_type": "display_data",
                    "data": {
                        "text/plain": "<IPython.core.display.HTML object>",
                        "text/html": "<html>\n        <head>\n            \n            \n        </head>\n        <body>\n            <div><p style='padding: 10px; color: #b94a48; background-color: #f2dede; border-color: #eed3d7'>KqlError:&nbsp;{&quot;error&quot;:{&quot;message&quot;:&quot;The&nbsp;requested&nbsp;path&nbsp;does&nbsp;not&nbsp;exist&quot;,&quot;code&quot;:&quot;PathNotFoundError&quot;,&quot;correlationId&quot;:&quot;1ece15ea-1632-4425-acab-ff8ce4519809&quot;}}</p></div>\n        </body>\n        </html>"
                    },
                    "metadata": {}
                }
            ],
            "execution_count": 34
        },
        {
            "cell_type": "markdown",
            "source": [
                "## 2. Define filters\r\n",
                "This workbook is designed for troubleshooting a single environment. Please provide values for aadTenantId and environmentName: "
            ],
            "metadata": {
                "azdata_cell_guid": "9ef1220c-d9cc-4552-9297-1428efcafb32"
            }
        },
        {
            "cell_type": "code",
            "source": [
                "aadTenantId = \"<Add AAD tenant id here>\"\r\n",
                "environmentName = \"<add environment name here>\"\r\n",
                "\r\n",
                "# date filters for the analysis\r\n",
                "# use YYYY-MM-DD format for the dates (ISO 8601)\r\n",
                "startDate = \"2020-08-20\"\r\n",
                "endDate = \"2020-10-02\""
            ],
            "metadata": {
                "azdata_cell_guid": "0a0785f7-a85e-4ccf-9020-732e1d4c058a",
                "tags": []
            },
            "outputs": [],
            "execution_count": 35
        },
        {
            "cell_type": "markdown",
            "source": [
                "# Analyze connector usage\r\n",
                "Now you can run Kusto queries to look for possible root causes for issues about web services.\r\n",
                "\r\n",
                "Either click **Run All** above to run all sections, or scroll down to the type of analysis you want to do and manually run queries"
            ],
            "metadata": {
                "azdata_cell_guid": "5f9b698d-8a7e-4757-b27d-02f219d6c589"
            }
        },
        {
            "cell_type": "markdown",
            "source": [
                "## Connector web service requests overview\r\n",
                "All connectors use the OData v4 protocol to connect to Business Central. \r\n",
                "\r\n",
                "Web service telemetry docs: https://docs.microsoft.com/en-us/dynamics365/business-central/dev-itpro/administration/telemetry-webservices-trace\r\n",
                "\r\n",
                "KQL samples: https://github.com/microsoft/BCTech/blob/master/samples/AppInsights/KQL/MicrosoftConnectorUsage.kql"
            ],
            "metadata": {
                "azdata_cell_guid": "2f9c2d0d-df3c-482b-af58-48416a517117"
            }
        },
        {
            "cell_type": "code",
            "source": [
                "%%kql\r\n",
                "let _aadTenantId = aadTenantId;\r\n",
                "let _environmentName = environmentName;\r\n",
                "let _startDate = startDate;\r\n",
                "let _endDate = endDate;\r\n",
                "traces\r\n",
                "| where 1==1 \r\n",
                "    and timestamp >= todatetime(_startDate)\r\n",
                "    and timestamp <= todatetime(_endDate) + totimespan(24h) - totimespan(1ms)    \r\n",
                "    and customDimensions.aadTenantId == _aadTenantId\r\n",
                "    and customDimensions.environmentName == _environmentName\r\n",
                "    and customDimensions.eventId == 'RT0008'\r\n",
                "    and customDimensions.category == 'ODataV4'\r\n",
                "// httpHeaders and httpStatusCode only available from 16.3\r\n",
                "| extend httpHeadersTmp =  tostring( customDimensions.httpHeaders)\r\n",
                "| extend httpHeadersJSON = parse_json(httpHeadersTmp)\r\n",
                "| extend msUserAgent = tostring( httpHeadersJSON.['ms-dyn-useragent'] )\r\n",
                "| where msUserAgent has 'AzureConnector' or msUserAgent has 'PowerBIConnector' or msUserAgent has 'BusinessCentralLinkUnfurlingTeamsBot'\r\n",
                "| extend httpStatusCode = customDimensions.httpStatusCode\r\n",
                ", connector = case( \r\n",
                "// ms-dyn-useragent=AzureConnector/1.0 Flow/1.0 DynamicsSmbSaas/1.0.0.0\r\n",
                "msUserAgent matches regex \"AzureConnector/(.)+Flow\", 'Flow'\r\n",
                "// [\"PowerBIConnector/1.0 PowerBI/1.0 Dynamics365BusinessCentral/1.1.5\"]\r\n",
                ", msUserAgent matches regex \"PowerBIConnector/\", 'Power BI'\r\n",
                "// ms-dyn-useragent=AzureConnector/1.0 PowerApps/3.20092.39 DynamicsSmbSaas/1.0.0.0\r\n",
                ", msUserAgent matches regex \"AzureConnector/(.)+PowerApps\", 'PowerApps'\r\n",
                "// ms-dyn-useragent=AzureConnector/1.0 LogicApps/3.20092.39 DynamicsSmbSaas/1.0.0.0\r\n",
                ", msUserAgent matches regex \"AzureConnector/(.)+LogicApps\", 'LogicApps'\r\n",
                "// ms-dyn-useragent=BusinessCentralLinkUnfurlingTeamsBot\r\n",
                ", msUserAgent has \"BusinessCentralLinkUnfurlingTeamsBot\", 'MSTeams'\r\n",
                ", msUserAgent has 'AzureConnector', 'Unknown Azure connector'\r\n",
                ", 'Unknown connector' \r\n",
                ")\r\n",
                "| summarize request_count=count() by connector, bin(timestamp, 1d)\r\n",
                "| render timechart title= 'Number of connector web service requests by category'"
            ],
            "metadata": {
                "azdata_cell_guid": "a9e923e9-1d05-4acf-a230-4c5142bc3582",
                "tags": []
            },
            "outputs": [
                {
                    "output_type": "display_data",
                    "data": {
                        "text/plain": "<IPython.core.display.HTML object>",
                        "text/html": "<html>\n        <head>\n            \n            \n        </head>\n        <body>\n            <div><p style='padding: 10px; color: #3a87ad; background-color: #d9edf7; border-color: #bce9f1'>&nbsp;&nbsp;&nbsp;962fbf96-f15e-4d37-8f91-13cae96f4b3e@applicationinsights<br>&nbsp;*&nbsp;add_app_id_from_the_Application_Insights_portal@applicationinsights</p></div>\n        </body>\n        </html>"
                    },
                    "metadata": {}
                },
                {
                    "output_type": "display_data",
                    "data": {
                        "text/plain": "<IPython.core.display.HTML object>",
                        "text/html": "<html>\n        <head>\n            \n            \n        </head>\n        <body>\n            <div><p style='padding: 10px; color: #b94a48; background-color: #f2dede; border-color: #eed3d7'>KqlError:&nbsp;{&quot;error&quot;:{&quot;message&quot;:&quot;The&nbsp;requested&nbsp;path&nbsp;does&nbsp;not&nbsp;exist&quot;,&quot;code&quot;:&quot;PathNotFoundError&quot;,&quot;correlationId&quot;:&quot;a1a4bbab-de6f-4e43-b337-85dc16948ef6&quot;}}</p></div>\n        </body>\n        </html>"
                    },
                    "metadata": {}
                }
            ],
            "execution_count": 36
        },
        {
            "cell_type": "code",
            "source": [
                "%%kql\r\n",
                "let _aadTenantId = aadTenantId;\r\n",
                "let _environmentName = environmentName;\r\n",
                "let _startDate = startDate;\r\n",
                "let _endDate = endDate;\r\n",
                "traces\r\n",
                "| where 1==1 \r\n",
                "    and timestamp >= todatetime(_startDate)\r\n",
                "    and timestamp <= todatetime(_endDate) + totimespan(24h) - totimespan(1ms)    \r\n",
                "    and customDimensions.aadTenantId == _aadTenantId\r\n",
                "    and customDimensions.environmentName == _environmentName\r\n",
                "    and customDimensions.eventId == 'RT0008'\r\n",
                "    and customDimensions.category == 'ODataV4'\r\n",
                "// httpHeaders and httpStatusCode only available from 16.3\r\n",
                "| extend httpHeadersTmp =  tostring( customDimensions.httpHeaders)\r\n",
                "| extend httpHeadersJSON = parse_json(httpHeadersTmp)\r\n",
                "| extend msUserAgent = tostring( httpHeadersJSON.['ms-dyn-useragent'] )\r\n",
                "| where msUserAgent has 'AzureConnector' or msUserAgent has 'PowerBIConnector' or msUserAgent has 'BusinessCentralLinkUnfurlingTeamsBot'\r\n",
                "| extend httpStatusCode = customDimensions.httpStatusCode\r\n",
                ", connector = case( \r\n",
                "// ms-dyn-useragent=AzureConnector/1.0 Flow/1.0 DynamicsSmbSaas/1.0.0.0\r\n",
                "msUserAgent matches regex \"AzureConnector/(.)+Flow\", 'Flow'\r\n",
                "// [\"PowerBIConnector/1.0 PowerBI/1.0 Dynamics365BusinessCentral/1.1.5\"]\r\n",
                ", msUserAgent matches regex \"PowerBIConnector/\", 'Power BI'\r\n",
                "// ms-dyn-useragent=AzureConnector/1.0 PowerApps/3.20092.39 DynamicsSmbSaas/1.0.0.0\r\n",
                ", msUserAgent matches regex \"AzureConnector/(.)+PowerApps\", 'PowerApps'\r\n",
                "// ms-dyn-useragent=AzureConnector/1.0 LogicApps/3.20092.39 DynamicsSmbSaas/1.0.0.0\r\n",
                ", msUserAgent matches regex \"AzureConnector/(.)+LogicApps\", 'LogicApps'\r\n",
                "// ms-dyn-useragent=BusinessCentralLinkUnfurlingTeamsBot\r\n",
                ", msUserAgent has \"BusinessCentralLinkUnfurlingTeamsBot\", 'MSTeams'\r\n",
                ", msUserAgent has 'AzureConnector', 'Unknown Azure connector'\r\n",
                ", 'Unknown connector' \r\n",
                ")\r\n",
                ", executionTimeInMS = toreal(totimespan(customDimensions.serverExecutionTime))/10000 //the datatype for executionTime is timespan \r\n",
                "| summarize count() by executionTime_ms = bin(executionTimeInMS, 100), connector\r\n",
                "| extend log_count = log10( count_ )\r\n",
                "| order by connector, executionTime_ms asc\r\n",
                "| render columnchart with  (ycolumns = log_count, ytitle='log(count)', series = connector, title= 'Execution time (in milliseconds) of connector web service requests' ) "
            ],
            "metadata": {
                "azdata_cell_guid": "e4e56e1a-ab5d-427a-bc49-747e6ae34a75"
            },
            "outputs": [
                {
                    "output_type": "display_data",
                    "data": {
                        "text/plain": "<IPython.core.display.HTML object>",
                        "text/html": "<html>\n        <head>\n            \n            \n        </head>\n        <body>\n            <div><p style='padding: 10px; color: #3a87ad; background-color: #d9edf7; border-color: #bce9f1'>&nbsp;&nbsp;&nbsp;962fbf96-f15e-4d37-8f91-13cae96f4b3e@applicationinsights<br>&nbsp;*&nbsp;add_app_id_from_the_Application_Insights_portal@applicationinsights</p></div>\n        </body>\n        </html>"
                    },
                    "metadata": {}
                },
                {
                    "output_type": "display_data",
                    "data": {
                        "text/plain": "<IPython.core.display.HTML object>",
                        "text/html": "<html>\n        <head>\n            \n            \n        </head>\n        <body>\n            <div><p style='padding: 10px; color: #b94a48; background-color: #f2dede; border-color: #eed3d7'>KqlError:&nbsp;{&quot;error&quot;:{&quot;message&quot;:&quot;The&nbsp;requested&nbsp;path&nbsp;does&nbsp;not&nbsp;exist&quot;,&quot;code&quot;:&quot;PathNotFoundError&quot;,&quot;correlationId&quot;:&quot;2f05c0ce-d8cf-47b2-bd2f-19afb001751f&quot;}}</p></div>\n        </body>\n        </html>"
                    },
                    "metadata": {}
                }
            ],
            "execution_count": 37
        },
        {
            "cell_type": "markdown",
            "source": [
                "## Connector throttling\r\n",
                "If web service requests exceed the operational limits in Business Central, then they will either be rejected (with a HTTP status code 426), or timeout (with a HTTP status code 408).\r\n",
                "\r\n",
                "Operational Limits for Business Central Online: \r\n",
                "* https://docs.microsoft.com/en-us/dynamics365/business-central/dev-itpro/administration/operational-limits-online#query-limits\r\n",
                "\r\n",
                "Telemetry docs: \r\n",
                "* https://docs.microsoft.com/en-us/dynamics365/business-central/dev-itpro/administration/telemetry-webservices-trace"
            ],
            "metadata": {
                "azdata_cell_guid": "2f7e604a-0d02-484e-9bcb-a6aa148d5f0b"
            }
        },
        {
            "cell_type": "code",
            "source": [
                "%%kql\r\n",
                "let _aadTenantId = aadTenantId;\r\n",
                "let _environmentName = environmentName;\r\n",
                "let _startDate = startDate;\r\n",
                "let _endDate = endDate;\r\n",
                "traces\r\n",
                "| where 1==1 \r\n",
                "    and timestamp >= todatetime(_startDate)\r\n",
                "    and timestamp <= todatetime(_endDate) + totimespan(24h) - totimespan(1ms)\r\n",
                "    and customDimensions.aadTenantId == _aadTenantId\r\n",
                "    and customDimensions.environmentName == _environmentName\r\n",
                "    and customDimensions.eventId == 'RT0008'\r\n",
                "    and customDimensions.category == 'ODataV4'\r\n",
                "// httpHeaders and httpStatusCode only available from 16.3\r\n",
                "| extend httpHeadersTmp =  tostring( customDimensions.httpHeaders)\r\n",
                "| extend httpHeadersJSON = parse_json(httpHeadersTmp)\r\n",
                "| extend msUserAgent = tostring( httpHeadersJSON.['ms-dyn-useragent'] )\r\n",
                "| where msUserAgent has 'AzureConnector' or msUserAgent has 'PowerBIConnector' or msUserAgent has 'BusinessCentralLinkUnfurlingTeamsBot'\r\n",
                "| extend httpStatusCode = tostring( customDimensions.httpStatusCode )\r\n",
                ", connector = case( \r\n",
                "// ms-dyn-useragent=AzureConnector/1.0 Flow/1.0 DynamicsSmbSaas/1.0.0.0\r\n",
                "msUserAgent matches regex \"AzureConnector/(.)+Flow\", 'Flow'\r\n",
                "// [\"PowerBIConnector/1.0 PowerBI/1.0 Dynamics365BusinessCentral/1.1.5\"]\r\n",
                ", msUserAgent matches regex \"PowerBIConnector/\", 'Power BI'\r\n",
                "// ms-dyn-useragent=AzureConnector/1.0 PowerApps/3.20092.39 DynamicsSmbSaas/1.0.0.0\r\n",
                ", msUserAgent matches regex \"AzureConnector/(.)+PowerApps\", 'PowerApps'\r\n",
                "// ms-dyn-useragent=AzureConnector/1.0 LogicApps/3.20092.39 DynamicsSmbSaas/1.0.0.0\r\n",
                ", msUserAgent matches regex \"AzureConnector/(.)+LogicApps\", 'LogicApps'\r\n",
                "// ms-dyn-useragent=BusinessCentralLinkUnfurlingTeamsBot\r\n",
                ", msUserAgent has \"BusinessCentralLinkUnfurlingTeamsBot\", 'MSTeams'\r\n",
                ", msUserAgent has 'AzureConnector', 'Unknown Azure connector'\r\n",
                ", 'Unknown connector' \r\n",
                ")\r\n",
                "| summarize count() by bin(timestamp, 1d), httpStatusCode, connector\r\n",
                "| render timechart title= 'Number of connector requests by http status code'"
            ],
            "metadata": {
                "azdata_cell_guid": "9ec9b678-7d66-4758-9101-4e9e5025dfcf",
                "tags": []
            },
            "outputs": [
                {
                    "output_type": "display_data",
                    "data": {
                        "text/plain": "<IPython.core.display.HTML object>",
                        "text/html": "<html>\n        <head>\n            \n            \n        </head>\n        <body>\n            <div><p style='padding: 10px; color: #3a87ad; background-color: #d9edf7; border-color: #bce9f1'>&nbsp;&nbsp;&nbsp;962fbf96-f15e-4d37-8f91-13cae96f4b3e@applicationinsights<br>&nbsp;*&nbsp;add_app_id_from_the_Application_Insights_portal@applicationinsights</p></div>\n        </body>\n        </html>"
                    },
                    "metadata": {}
                },
                {
                    "output_type": "display_data",
                    "data": {
                        "text/plain": "<IPython.core.display.HTML object>",
                        "text/html": "<html>\n        <head>\n            \n            \n        </head>\n        <body>\n            <div><p style='padding: 10px; color: #b94a48; background-color: #f2dede; border-color: #eed3d7'>KqlError:&nbsp;{&quot;error&quot;:{&quot;message&quot;:&quot;The&nbsp;requested&nbsp;path&nbsp;does&nbsp;not&nbsp;exist&quot;,&quot;code&quot;:&quot;PathNotFoundError&quot;,&quot;correlationId&quot;:&quot;19897602-f43c-4618-8b83-55294544dc4f&quot;}}</p></div>\n        </body>\n        </html>"
                    },
                    "metadata": {}
                }
            ],
            "execution_count": 38
        },
        {
            "cell_type": "markdown",
            "source": [
                "## Connector Web service requests (Access denied)\r\n",
                "The user who made the request doesn't have proper permissions. For more information, see \r\n",
                "* https://docs.microsoft.com/en-us/dynamics365/business-central/dev-itpro/webservices/web-services-authentication\r\n",
                "* https://docs.microsoft.com/en-us/dynamics365/business-central/ui-define-granular-permissions\r\n",
                "\r\n",
                "Telemetry docs: \r\n",
                "* https://docs.microsoft.com/en-us/dynamics365/business-central/dev-itpro/administration/telemetry-webservices-trace"
            ],
            "metadata": {
                "azdata_cell_guid": "f6a9d2d3-26b9-4536-b279-d126e5cd5609"
            }
        },
        {
            "cell_type": "code",
            "source": [
                "%%kql\r\n",
                "//\r\n",
                "// Top 10 endpoint requests with access denied\r\n",
                "//\r\n",
                "let _aadTenantId = aadTenantId;\r\n",
                "let _environmentName = environmentName;\r\n",
                "let _startDate = startDate;\r\n",
                "let _endDate = endDate;\r\n",
                "traces\r\n",
                "| where 1==1 \r\n",
                "    and timestamp >= todatetime(_startDate)\r\n",
                "    and timestamp <= todatetime(_endDate) + totimespan(24h) - totimespan(1ms)\r\n",
                "    and customDimensions.aadTenantId == _aadTenantId\r\n",
                "    and customDimensions.environmentName == _environmentName\r\n",
                "    and customDimensions.eventId == 'RT0008'\r\n",
                "    and customDimensions.category == 'ODataV4'    \r\n",
                "    and customDimensions.httpStatusCode == '401'\r\n",
                "// httpHeaders and httpStatusCode only available from 16.3\r\n",
                "| extend httpHeadersTmp =  tostring( customDimensions.httpHeaders)\r\n",
                "| extend httpHeadersJSON = parse_json(httpHeadersTmp)\r\n",
                "| extend msUserAgent = tostring( httpHeadersJSON.['ms-dyn-useragent'] )\r\n",
                "| where msUserAgent has 'AzureConnector' or msUserAgent has 'PowerBIConnector' or msUserAgent has 'BusinessCentralLinkUnfurlingTeamsBot'\r\n",
                "| extend httpStatusCode = customDimensions.httpStatusCode\r\n",
                ", connector = case( \r\n",
                "// ms-dyn-useragent=AzureConnector/1.0 Flow/1.0 DynamicsSmbSaas/1.0.0.0\r\n",
                "msUserAgent matches regex \"AzureConnector/(.)+Flow\", 'Flow'\r\n",
                "// [\"PowerBIConnector/1.0 PowerBI/1.0 Dynamics365BusinessCentral/1.1.5\"]\r\n",
                ", msUserAgent matches regex \"PowerBIConnector/\", 'Power BI'\r\n",
                "// ms-dyn-useragent=AzureConnector/1.0 PowerApps/3.20092.39 DynamicsSmbSaas/1.0.0.0\r\n",
                ", msUserAgent matches regex \"AzureConnector/(.)+PowerApps\", 'PowerApps'\r\n",
                "// ms-dyn-useragent=AzureConnector/1.0 LogicApps/3.20092.39 DynamicsSmbSaas/1.0.0.0\r\n",
                ", msUserAgent matches regex \"AzureConnector/(.)+LogicApps\", 'LogicApps'\r\n",
                "// ms-dyn-useragent=BusinessCentralLinkUnfurlingTeamsBot\r\n",
                ", msUserAgent has \"BusinessCentralLinkUnfurlingTeamsBot\", 'MSTeams'\r\n",
                ", msUserAgent has 'AzureConnector', 'Unknown Azure connector'\r\n",
                ", 'Unknown connector' \r\n",
                ")    \r\n",
                "| summarize number_of_requests=count() by connector, endpoint = tostring( customDimensions.endpoint ), alObjectName = tostring( customDimensions.alObjectName ), alObjectId = tostring( customDimensions.alObjectId )\r\n",
                "| limit 10"
            ],
            "metadata": {
                "azdata_cell_guid": "ef3d4e9f-42bb-4492-bc3b-f88b33dcbdea"
            },
            "outputs": [
                {
                    "output_type": "display_data",
                    "data": {
                        "text/plain": "<IPython.core.display.HTML object>",
                        "text/html": "<html>\n        <head>\n            \n            \n        </head>\n        <body>\n            <div><p style='padding: 10px; color: #3a87ad; background-color: #d9edf7; border-color: #bce9f1'>&nbsp;&nbsp;&nbsp;962fbf96-f15e-4d37-8f91-13cae96f4b3e@applicationinsights<br>&nbsp;*&nbsp;add_app_id_from_the_Application_Insights_portal@applicationinsights</p></div>\n        </body>\n        </html>"
                    },
                    "metadata": {}
                },
                {
                    "output_type": "display_data",
                    "data": {
                        "text/plain": "<IPython.core.display.HTML object>",
                        "text/html": "<html>\n        <head>\n            \n            \n        </head>\n        <body>\n            <div><p style='padding: 10px; color: #b94a48; background-color: #f2dede; border-color: #eed3d7'>KqlError:&nbsp;{&quot;error&quot;:{&quot;message&quot;:&quot;The&nbsp;requested&nbsp;path&nbsp;does&nbsp;not&nbsp;exist&quot;,&quot;code&quot;:&quot;PathNotFoundError&quot;,&quot;correlationId&quot;:&quot;e920a422-31eb-435a-88dc-d20430cf8b4a&quot;}}</p></div>\n        </body>\n        </html>"
                    },
                    "metadata": {}
                }
            ],
            "execution_count": 39
        },
        {
            "cell_type": "markdown",
            "source": [
                "## Connector web service requests (Not found)\r\n",
                "The given endpoint was not valid\r\n",
                "\r\n",
                "See\r\n",
                "* https://docs.microsoft.com/en-us/dynamics365/business-central/dev-itpro/webservices/publish-web-service\r\n",
                "\r\n",
                "Telemetry docs: \r\n",
                "* https://docs.microsoft.com/en-us/dynamics365/business-central/dev-itpro/administration/telemetry-webservices-trace"
            ],
            "metadata": {
                "azdata_cell_guid": "ffc66241-e49a-46c3-953c-edb1e3d1ef75"
            }
        },
        {
            "cell_type": "code",
            "source": [
                "%%kql\r\n",
                "//\r\n",
                "// Top 10 non-valid endpoints called\r\n",
                "//\r\n",
                "let _aadTenantId = aadTenantId;\r\n",
                "let _environmentName = environmentName;\r\n",
                "let _startDate = startDate;\r\n",
                "let _endDate = endDate;\r\n",
                "traces\r\n",
                "| where 1==1 \r\n",
                "    and timestamp >= todatetime(_startDate)\r\n",
                "    and timestamp <= todatetime(_endDate) + totimespan(24h) - totimespan(1ms)\r\n",
                "    and customDimensions.aadTenantId == _aadTenantId\r\n",
                "    and customDimensions.environmentName == _environmentName\r\n",
                "    and customDimensions.eventId == 'RT0008'\r\n",
                "    and customDimensions.category == 'ODataV4'    \r\n",
                "    and customDimensions.httpStatusCode == '404'\r\n",
                "// httpHeaders and httpStatusCode only available from 16.3\r\n",
                "| extend httpHeadersTmp =  tostring( customDimensions.httpHeaders)\r\n",
                "| extend httpHeadersJSON = parse_json(httpHeadersTmp)\r\n",
                "| extend msUserAgent = tostring( httpHeadersJSON.['ms-dyn-useragent'] )\r\n",
                "| where msUserAgent has 'AzureConnector' or msUserAgent has 'PowerBIConnector' or msUserAgent has 'BusinessCentralLinkUnfurlingTeamsBot'\r\n",
                "| extend httpStatusCode = customDimensions.httpStatusCode\r\n",
                ", connector = case( \r\n",
                "// ms-dyn-useragent=AzureConnector/1.0 Flow/1.0 DynamicsSmbSaas/1.0.0.0\r\n",
                "msUserAgent matches regex \"AzureConnector/(.)+Flow\", 'Flow'\r\n",
                "// [\"PowerBIConnector/1.0 PowerBI/1.0 Dynamics365BusinessCentral/1.1.5\"]\r\n",
                ", msUserAgent matches regex \"PowerBIConnector/\", 'Power BI'\r\n",
                "// ms-dyn-useragent=AzureConnector/1.0 PowerApps/3.20092.39 DynamicsSmbSaas/1.0.0.0\r\n",
                ", msUserAgent matches regex \"AzureConnector/(.)+PowerApps\", 'PowerApps'\r\n",
                "// ms-dyn-useragent=AzureConnector/1.0 LogicApps/3.20092.39 DynamicsSmbSaas/1.0.0.0\r\n",
                ", msUserAgent matches regex \"AzureConnector/(.)+LogicApps\", 'LogicApps'\r\n",
                "// ms-dyn-useragent=BusinessCentralLinkUnfurlingTeamsBot\r\n",
                ", msUserAgent has \"BusinessCentralLinkUnfurlingTeamsBot\", 'MSTeams'\r\n",
                ", msUserAgent has 'AzureConnector', 'Unknown Azure connector'\r\n",
                ", 'Unknown connector' \r\n",
                ")    \r\n",
                "| summarize number_of_requests=count() by connector, endpoint = tostring( customDimensions.endpoint ), alObjectName = tostring( customDimensions.alObjectName ), alObjectId = tostring( customDimensions.alObjectId )\r\n",
                "| order by number_of_requests desc\r\n",
                "| limit 10"
            ],
            "metadata": {
                "azdata_cell_guid": "09e649eb-d8bb-43e8-8f8b-ff07c8cda005"
            },
            "outputs": [
                {
                    "output_type": "display_data",
                    "data": {
                        "text/plain": "<IPython.core.display.HTML object>",
                        "text/html": "<html>\n        <head>\n            \n            \n        </head>\n        <body>\n            <div><p style='padding: 10px; color: #3a87ad; background-color: #d9edf7; border-color: #bce9f1'>&nbsp;&nbsp;&nbsp;962fbf96-f15e-4d37-8f91-13cae96f4b3e@applicationinsights<br>&nbsp;*&nbsp;add_app_id_from_the_Application_Insights_portal@applicationinsights</p></div>\n        </body>\n        </html>"
                    },
                    "metadata": {}
                },
                {
                    "output_type": "display_data",
                    "data": {
                        "text/plain": "<IPython.core.display.HTML object>",
                        "text/html": "<html>\n        <head>\n            \n            \n        </head>\n        <body>\n            <div><p style='padding: 10px; color: #b94a48; background-color: #f2dede; border-color: #eed3d7'>KqlError:&nbsp;{&quot;error&quot;:{&quot;message&quot;:&quot;The&nbsp;requested&nbsp;path&nbsp;does&nbsp;not&nbsp;exist&quot;,&quot;code&quot;:&quot;PathNotFoundError&quot;,&quot;correlationId&quot;:&quot;73ec63e1-5472-40aa-9b63-2b35cd4b5c3f&quot;}}</p></div>\n        </body>\n        </html>"
                    },
                    "metadata": {}
                }
            ],
            "execution_count": 40
        },
        {
            "cell_type": "markdown",
            "source": [
                "## Connector web service requests (Request timed out)\r\n",
                "The request took longer to complete than the threshold configured for the service\r\n",
                "\r\n",
                "See\r\n",
                "* https://docs.microsoft.com/en-us/dynamics365/business-central/dev-itpro/administration/operational-limits-online#ODataServices\r\n",
                "\r\n",
                "Telemetry docs: \r\n",
                "* https://docs.microsoft.com/en-us/dynamics365/business-central/dev-itpro/administration/telemetry-webservices-trace"
            ],
            "metadata": {
                "azdata_cell_guid": "66ab172d-9d99-4228-98c7-68a4113a91a0"
            }
        },
        {
            "cell_type": "code",
            "source": [
                "%%kql\r\n",
                "//\r\n",
                "// Top 10 endpoints that timed out\r\n",
                "//\r\n",
                "let _aadTenantId = aadTenantId;\r\n",
                "let _environmentName = environmentName;\r\n",
                "let _startDate = startDate;\r\n",
                "let _endDate = endDate;\r\n",
                "traces\r\n",
                "| where 1==1 \r\n",
                "    and timestamp >= todatetime(_startDate)\r\n",
                "    and timestamp <= todatetime(_endDate) + totimespan(24h) - totimespan(1ms) \r\n",
                "    and customDimensions.aadTenantId == _aadTenantId\r\n",
                "    and customDimensions.environmentName == _environmentName\r\n",
                "    and customDimensions.eventId == 'RT0008'\r\n",
                "    and customDimensions.category == 'ODataV4'    \r\n",
                "    and customDimensions.httpStatusCode == '408'\r\n",
                "// httpHeaders and httpStatusCode only available from 16.3\r\n",
                "| extend httpHeadersTmp =  tostring( customDimensions.httpHeaders)\r\n",
                "| extend httpHeadersJSON = parse_json(httpHeadersTmp)\r\n",
                "| extend msUserAgent = tostring( httpHeadersJSON.['ms-dyn-useragent'] )\r\n",
                "| where msUserAgent has 'AzureConnector' or msUserAgent has 'PowerBIConnector' or msUserAgent has 'BusinessCentralLinkUnfurlingTeamsBot'\r\n",
                "| extend httpStatusCode = customDimensions.httpStatusCode\r\n",
                ", connector = case( \r\n",
                "// ms-dyn-useragent=AzureConnector/1.0 Flow/1.0 DynamicsSmbSaas/1.0.0.0\r\n",
                "msUserAgent matches regex \"AzureConnector/(.)+Flow\", 'Flow'\r\n",
                "// [\"PowerBIConnector/1.0 PowerBI/1.0 Dynamics365BusinessCentral/1.1.5\"]\r\n",
                ", msUserAgent matches regex \"PowerBIConnector/\", 'Power BI'\r\n",
                "// ms-dyn-useragent=AzureConnector/1.0 PowerApps/3.20092.39 DynamicsSmbSaas/1.0.0.0\r\n",
                ", msUserAgent matches regex \"AzureConnector/(.)+PowerApps\", 'PowerApps'\r\n",
                "// ms-dyn-useragent=AzureConnector/1.0 LogicApps/3.20092.39 DynamicsSmbSaas/1.0.0.0\r\n",
                ", msUserAgent matches regex \"AzureConnector/(.)+LogicApps\", 'LogicApps'\r\n",
                "// ms-dyn-useragent=BusinessCentralLinkUnfurlingTeamsBot\r\n",
                ", msUserAgent has \"BusinessCentralLinkUnfurlingTeamsBot\", 'MSTeams'\r\n",
                ", msUserAgent has 'AzureConnector', 'Unknown Azure connector'\r\n",
                ", 'Unknown connector' \r\n",
                ")        \r\n",
                "| summarize number_of_requests=count() by connector, endpoint = tostring( customDimensions.endpoint ), alObjectName = tostring( customDimensions.alObjectName ), alObjectId = tostring( customDimensions.alObjectId )\r\n",
                "| order by number_of_requests desc\r\n",
                "| limit 10"
            ],
            "metadata": {
                "azdata_cell_guid": "f29afa7f-6408-4e85-a613-605d9898574d"
            },
            "outputs": [
                {
                    "output_type": "display_data",
                    "data": {
                        "text/plain": "<IPython.core.display.HTML object>",
                        "text/html": "<html>\n        <head>\n            \n            \n        </head>\n        <body>\n            <div><p style='padding: 10px; color: #3a87ad; background-color: #d9edf7; border-color: #bce9f1'>&nbsp;&nbsp;&nbsp;962fbf96-f15e-4d37-8f91-13cae96f4b3e@applicationinsights<br>&nbsp;*&nbsp;add_app_id_from_the_Application_Insights_portal@applicationinsights</p></div>\n        </body>\n        </html>"
                    },
                    "metadata": {}
                },
                {
                    "output_type": "display_data",
                    "data": {
                        "text/plain": "<IPython.core.display.HTML object>",
                        "text/html": "<html>\n        <head>\n            \n            \n        </head>\n        <body>\n            <div><p style='padding: 10px; color: #b94a48; background-color: #f2dede; border-color: #eed3d7'>KqlError:&nbsp;{&quot;error&quot;:{&quot;message&quot;:&quot;The&nbsp;requested&nbsp;path&nbsp;does&nbsp;not&nbsp;exist&quot;,&quot;code&quot;:&quot;PathNotFoundError&quot;,&quot;correlationId&quot;:&quot;1208443f-aa97-42d5-b046-21ee426f2af5&quot;}}</p></div>\n        </body>\n        </html>"
                    },
                    "metadata": {}
                }
            ],
            "execution_count": 41
        },
        {
            "cell_type": "markdown",
            "source": [
                "## Connector web service requests (Too Many Requests)\r\n",
                "The request exceeded the maximum simultaneous requests allowed on the service.\r\n",
                "\r\n",
                "See\r\n",
                "* https://docs.microsoft.com/en-us/dynamics365/business-central/dev-itpro/administration/operational-limits-online#ODataServices\r\n",
                "\r\n",
                "Telemetry docs: \r\n",
                "* https://docs.microsoft.com/en-us/dynamics365/business-central/dev-itpro/administration/telemetry-webservices-trace\r\n",
                ""
            ],
            "metadata": {
                "azdata_cell_guid": "68241327-780a-4766-9e51-b37f90d595dc"
            }
        },
        {
            "cell_type": "code",
            "source": [
                "%%kql\r\n",
                "//\r\n",
                "// Top 10 endpoints get throttled\r\n",
                "//\r\n",
                "let _aadTenantId = aadTenantId;\r\n",
                "let _environmentName = environmentName;\r\n",
                "let _startDate = startDate;\r\n",
                "let _endDate = endDate;\r\n",
                "traces\r\n",
                "| where 1==1 \r\n",
                "    and timestamp >= todatetime(_startDate)\r\n",
                "    and timestamp <= todatetime(_endDate) + totimespan(24h) - totimespan(1ms)\r\n",
                "    and customDimensions.aadTenantId == _aadTenantId\r\n",
                "    and customDimensions.environmentName == _environmentName\r\n",
                "    and customDimensions.eventId == 'RT0008'\r\n",
                "    and customDimensions.httpStatusCode == '426'\r\n",
                "    and customDimensions.category == 'ODataV4'\r\n",
                "// httpHeaders and httpStatusCode only available from 16.3\r\n",
                "| extend httpHeadersTmp =  tostring( customDimensions.httpHeaders)\r\n",
                "| extend httpHeadersJSON = parse_json(httpHeadersTmp)\r\n",
                "| extend msUserAgent = tostring( httpHeadersJSON.['ms-dyn-useragent'] )\r\n",
                "| where msUserAgent has 'AzureConnector' or msUserAgent has 'PowerBIConnector' or msUserAgent has 'BusinessCentralLinkUnfurlingTeamsBot'\r\n",
                "| extend httpStatusCode = customDimensions.httpStatusCode\r\n",
                ", connector = case( \r\n",
                "// ms-dyn-useragent=AzureConnector/1.0 Flow/1.0 DynamicsSmbSaas/1.0.0.0\r\n",
                "msUserAgent matches regex \"AzureConnector/(.)+Flow\", 'Flow'\r\n",
                "// [\"PowerBIConnector/1.0 PowerBI/1.0 Dynamics365BusinessCentral/1.1.5\"]\r\n",
                ", msUserAgent matches regex \"PowerBIConnector/\", 'Power BI'\r\n",
                "// ms-dyn-useragent=AzureConnector/1.0 PowerApps/3.20092.39 DynamicsSmbSaas/1.0.0.0\r\n",
                ", msUserAgent matches regex \"AzureConnector/(.)+PowerApps\", 'PowerApps'\r\n",
                "// ms-dyn-useragent=AzureConnector/1.0 LogicApps/3.20092.39 DynamicsSmbSaas/1.0.0.0\r\n",
                ", msUserAgent matches regex \"AzureConnector/(.)+LogicApps\", 'LogicApps'\r\n",
                "// ms-dyn-useragent=BusinessCentralLinkUnfurlingTeamsBot\r\n",
                ", msUserAgent has \"BusinessCentralLinkUnfurlingTeamsBot\", 'MSTeams'\r\n",
                ", msUserAgent has 'AzureConnector', 'Unknown Azure connector'\r\n",
                ", 'Unknown connector' \r\n",
                ")                \r\n",
                "| summarize number_of_requests=count() by connector, endpoint = tostring( customDimensions.endpoint ), alObjectName = tostring( customDimensions.alObjectName ), alObjectId = tostring( customDimensions.alObjectId )\r\n",
                "| order by number_of_requests desc\r\n",
                "| limit 10"
            ],
            "metadata": {
                "azdata_cell_guid": "2c9888bb-6306-4b67-a545-a40ea5f97f60"
            },
            "outputs": [
                {
                    "output_type": "display_data",
                    "data": {
                        "text/plain": "<IPython.core.display.HTML object>",
                        "text/html": "<html>\n        <head>\n            \n            \n        </head>\n        <body>\n            <div><p style='padding: 10px; color: #3a87ad; background-color: #d9edf7; border-color: #bce9f1'>&nbsp;&nbsp;&nbsp;962fbf96-f15e-4d37-8f91-13cae96f4b3e@applicationinsights<br>&nbsp;*&nbsp;add_app_id_from_the_Application_Insights_portal@applicationinsights</p></div>\n        </body>\n        </html>"
                    },
                    "metadata": {}
                },
                {
                    "output_type": "display_data",
                    "data": {
                        "text/plain": "<IPython.core.display.HTML object>",
                        "text/html": "<html>\n        <head>\n            \n            \n        </head>\n        <body>\n            <div><p style='padding: 10px; color: #b94a48; background-color: #f2dede; border-color: #eed3d7'>KqlError:&nbsp;{&quot;error&quot;:{&quot;message&quot;:&quot;The&nbsp;requested&nbsp;path&nbsp;does&nbsp;not&nbsp;exist&quot;,&quot;code&quot;:&quot;PathNotFoundError&quot;,&quot;correlationId&quot;:&quot;0a97b433-70c6-4c9d-b14d-57a6932c1e76&quot;}}</p></div>\n        </body>\n        </html>"
                    },
                    "metadata": {}
                }
            ],
            "execution_count": 42
        }
    ]
}