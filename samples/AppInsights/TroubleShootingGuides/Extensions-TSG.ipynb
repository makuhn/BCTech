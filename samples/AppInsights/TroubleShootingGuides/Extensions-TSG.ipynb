{
    "metadata": {
        "kernelspec": {
            "name": "python3",
            "display_name": "Python 3"
        },
        "language_info": {
            "name": "python",
            "version": "3.6.6",
            "mimetype": "text/x-python",
            "codemirror_mode": {
                "name": "ipython",
                "version": 3
            },
            "pygments_lexer": "ipython3",
            "nbconvert_exporter": "python",
            "file_extension": ".py"
        }
    },
    "nbformat_minor": 2,
    "nbformat": 4,
    "cells": [
        {
            "cell_type": "markdown",
            "source": [
                "# Dynamics 365 Business Central Trouble Shooting Guide (TSG) - Extensions\r\n",
                "\r\n",
                "This notebook contains Kusto queries that can help getting to the root cause of an issue with extensions for one or more environments. \r\n",
                "\r\n",
                "NB! Some of the signal used in this notebook is only available in newer versions of Business Central, so check the version of your environment if some sections do not return any data. The signal documentation states in which version a given signal was introduced."
            ],
            "metadata": {
                "azdata_cell_guid": "1f608a1d-2436-4b48-80d4-5c4d2f8ca7d0"
            }
        },
        {
            "cell_type": "markdown",
            "source": [
                "## 1. Connect to Application Insights\r\n",
                "First you need to set the notebook Kernel to Python3, load the KQLmagic module (did you install it?) and connect to your Application Insights resource (get appid and appkey from the API access page in the Application Insights portal)"
            ],
            "metadata": {
                "azdata_cell_guid": "f103fae9-cf6d-40f7-9062-11ce50691046"
            }
        },
        {
            "cell_type": "code",
            "source": [
                "# load the KQLmagic module\r\n",
                "%reload_ext Kqlmagic"
            ],
            "metadata": {
                "azdata_cell_guid": "5d02aa4b-9e41-474f-b643-2fbd482077af"
            },
            "outputs": [],
            "execution_count": 27
        },
        {
            "cell_type": "code",
            "source": [
                "# Connect to the Application Insights API\r\n",
                "%kql appinsights://appid='<add app id from the Application Insights portal>';appkey='<add API key from the Application Insights portal>'\r\n",
                ""
            ],
            "metadata": {
                "azdata_cell_guid": "a253fa8e-6ac2-4722-a00a-1c52aedab4ed",
                "tags": []
            },
            "outputs": [
                {
                    "output_type": "display_data",
                    "data": {
                        "text/plain": "<IPython.core.display.HTML object>",
                        "text/html": "<html>\n        <head>\n            \n            \n        </head>\n        <body>\n            <div><p style='padding: 10px; color: #b94a48; background-color: #f2dede; border-color: #eed3d7'>KqlError:&nbsp;{&quot;error&quot;:{&quot;message&quot;:&quot;The&nbsp;requested&nbsp;path&nbsp;does&nbsp;not&nbsp;exist&quot;,&quot;code&quot;:&quot;PathNotFoundError&quot;,&quot;correlationId&quot;:&quot;aa04a72f-e23f-46aa-8fa4-1bffdcd6365e&quot;}}</p></div>\n        </body>\n        </html>"
                    },
                    "metadata": {}
                }
            ],
            "execution_count": 28
        },
        {
            "cell_type": "markdown",
            "source": [
                "## 2. Define filters\r\n",
                "This workbook is designed for troubleshooting extensions. Please provide values for aadTenantId, environmentName, and extensionId.\r\n",
                "\r\n",
                "You can also specify limits to the period of time that the analysis should include."
            ],
            "metadata": {
                "azdata_cell_guid": "9ef1220c-d9cc-4552-9297-1428efcafb32"
            }
        },
        {
            "cell_type": "code",
            "source": [
                "# Add values for AAD tenant id, environment name, and extension id here\r\n",
                "#\r\n",
                "# It is possible to leave one or more values blank (if you want to analyze across all values of the parameter)\r\n",
                "# \r\n",
                "aadTenantId = \"\"\r\n",
                "environmentName = \"\"\r\n",
                "extensionId = \"\"\r\n",
                "\r\n",
                "# date filters for the analysis\r\n",
                "# use YYYY-MM-DD format for the dates (ISO 8601)\r\n",
                "startDate = \"2020-09-20\"\r\n",
                "endDate = \"2020-09-27\""
            ],
            "metadata": {
                "azdata_cell_guid": "0a0785f7-a85e-4ccf-9020-732e1d4c058a",
                "tags": []
            },
            "outputs": [],
            "execution_count": 29
        },
        {
            "cell_type": "markdown",
            "source": [
                "# Analyze extension events\r\n",
                "Now you can run Kusto queries to look for possible root causes for issues about extensions.\r\n",
                "\r\n",
                "Either click **Run All** above to run all sections, or scroll down to the type of analysis you want to do and manually run queries"
            ],
            "metadata": {
                "azdata_cell_guid": "5f9b698d-8a7e-4757-b27d-02f219d6c589"
            }
        },
        {
            "cell_type": "markdown",
            "source": [
                "## Extension event overview\r\n",
                "\r\n",
                "Event telemetry docs: \r\n",
                "* https://docs.microsoft.com/en-us/dynamics365/business-central/dev-itpro/administration/telemetry-extension-lifecycle-trace\r\n",
                "* https://docs.microsoft.com/en-us/dynamics365/business-central/dev-itpro/administration/telemetry-extension-update-trace\r\n",
                "\r\n",
                "KQL samples: https://github.com/microsoft/BCTech/blob/master/samples/AppInsights/KQL/RawData/ExtensionLifecycle.kql"
            ],
            "metadata": {
                "azdata_cell_guid": "2f9c2d0d-df3c-482b-af58-48416a517117"
            }
        },
        {
            "cell_type": "code",
            "source": [
                "%%kql\r\n",
                "//\r\n",
                "// extension event types stats \r\n",
                "// \r\n",
                "let _aadTenantId = aadTenantId;\r\n",
                "let _environmentName = environmentName;\r\n",
                "let _extensionId = extensionId;\r\n",
                "let _startDate = startDate;\r\n",
                "let _endDate = endDate;\r\n",
                "traces\r\n",
                "| where 1==1 \r\n",
                "    and timestamp >= todatetime(_startDate)\r\n",
                "    and timestamp <= todatetime(_endDate) + totimespan(24h) - totimespan(1ms)\r\n",
                "    and (_aadTenantId == '' or customDimensions.aadTenantId == _aadTenantId)\r\n",
                "    and (_environmentName == '' or customDimensions.environmentName == _environmentName )\r\n",
                "    and (_extensionId == '' or customDimensions.extensionId == _extensionId)    \r\n",
                "    and customDimensions.eventId in ('RT0010', 'LC0010', 'LC0011', 'LC0012', 'LC0013', 'LC0014', 'LC0015', 'LC0016', 'LC0017', 'LC0018', 'LC0019', 'LC020', 'LC021', 'LC022', 'LC023')    \r\n",
                "| extend aadTenantId=tostring( customDimensions.aadTenantId)\r\n",
                "       , environmentName=tostring( customDimensions.environmentName )\r\n",
                "       , extensionId=tostring( customDimensions.extensionId )\r\n",
                "       , eventId=tostring(customDimensions.eventId)\r\n",
                "| extend eventMessageShort=case(\r\n",
                "              eventId=='RT0010', strcat(eventId, ': Extension Update Failed (exception raised in upgrade code)')\r\n",
                "            , eventId=='LC0010', strcat(eventId, ': Extension installed successfully')\r\n",
                "            , eventId=='LC0011', strcat(eventId, ': Extension failed to install')\r\n",
                "            , eventId=='LC0012', strcat(eventId, ': Extension synchronized successfully')            \r\n",
                "            , eventId=='LC0013', strcat(eventId, ': Extension failed to synchronize')            \r\n",
                "            , eventId=='LC0014', strcat(eventId, ': Extension published successfully')            \r\n",
                "            , eventId=='LC0015', strcat(eventId, ': Extension failed to publish')            \r\n",
                "            , eventId=='LC0016', strcat(eventId, ': Extension un-installed successfully')            \r\n",
                "            , eventId=='LC0017', strcat(eventId, ': Extension failed to un-install')            \r\n",
                "            , eventId=='LC0018', strcat(eventId, ': Extension unpublished successfully')\r\n",
                "            , eventId=='LC0019', strcat(eventId, ': Extension failed to un-publish')\r\n",
                "            , eventId=='LC0020', strcat(eventId, ': Extension compiled successfully')\r\n",
                "            , eventId=='LC0021', strcat(eventId, ': Extension failed to compile')\r\n",
                "            , eventId=='LC0022', strcat(eventId, ': Extension updated successfully')\r\n",
                "            , eventId=='LC0023', strcat(eventId, ': Extension failed to update')\r\n",
                "            , strcat( eventId, ': Unknown message')\r\n",
                "         )\r\n",
                "| summarize count() by eventMessageShort\r\n",
                "| order by eventMessageShort\r\n",
                "| render barchart with (title='Extension lifecycle event overview', legend=hidden)"
            ],
            "metadata": {
                "azdata_cell_guid": "a9e923e9-1d05-4acf-a230-4c5142bc3582",
                "tags": []
            },
            "outputs": [
                {
                    "output_type": "display_data",
                    "data": {
                        "text/plain": "<IPython.core.display.HTML object>",
                        "text/html": "<html>\n        <head>\n            \n            \n        </head>\n        <body>\n            <div><p style='padding: 10px; color: #3a87ad; background-color: #d9edf7; border-color: #bce9f1'>&nbsp;&nbsp;&nbsp;962fbf96-f15e-4d37-8f91-13cae96f4b3e@applicationinsights<br>&nbsp;*&nbsp;add_app_id_from_the_Application_Insights_portal@applicationinsights</p></div>\n        </body>\n        </html>"
                    },
                    "metadata": {}
                },
                {
                    "output_type": "display_data",
                    "data": {
                        "text/plain": "<IPython.core.display.HTML object>",
                        "text/html": "<html>\n        <head>\n            \n            \n        </head>\n        <body>\n            <div><p style='padding: 10px; color: #b94a48; background-color: #f2dede; border-color: #eed3d7'>KqlError:&nbsp;{&quot;error&quot;:{&quot;message&quot;:&quot;The&nbsp;requested&nbsp;path&nbsp;does&nbsp;not&nbsp;exist&quot;,&quot;code&quot;:&quot;PathNotFoundError&quot;,&quot;correlationId&quot;:&quot;fb4af4c4-226f-41f3-9dfc-23b2feca9459&quot;}}</p></div>\n        </body>\n        </html>"
                    },
                    "metadata": {}
                }
            ],
            "execution_count": 30
        },
        {
            "cell_type": "code",
            "source": [
                "%%kql\r\n",
                "//\r\n",
                "// top 100 extension events\r\n",
                "// \r\n",
                "let _aadTenantId = aadTenantId;\r\n",
                "let _environmentName = environmentName;\r\n",
                "let _extensionId = extensionId;\r\n",
                "let _startDate = startDate;\r\n",
                "let _endDate = endDate;\r\n",
                "traces\r\n",
                "| where 1==1 \r\n",
                "    and timestamp >= todatetime(_startDate)\r\n",
                "    and timestamp <= todatetime(_endDate) + totimespan(24h) - totimespan(1ms)\r\n",
                "    and (_aadTenantId == '' or customDimensions.aadTenantId == _aadTenantId)\r\n",
                "    and (_environmentName == '' or customDimensions.environmentName == _environmentName )\r\n",
                "    and (_extensionId == '' or customDimensions.extensionId == _extensionId)    \r\n",
                "    and customDimensions.eventId in ('RT0010', 'LC0010', 'LC0011', 'LC0012', 'LC0013', 'LC0014', 'LC0015', 'LC0016', 'LC0017', 'LC0018', 'LC0019', 'LC020', 'LC021', 'LC022', 'LC023')    \r\n",
                "| extend aadTenantId=tostring( customDimensions.aadTenantId)\r\n",
                "       , environmentName=tostring( customDimensions.environmentName )\r\n",
                "       , extensionId=tostring( customDimensions.extensionId )\r\n",
                "       , extensionName=tostring( customDimensions.extensionName )\r\n",
                "| limit 100\r\n",
                "| project aadTenantId, environmentName, extensionId, extensionName, timestamp, message\r\n",
                "| order by aadTenantId asc, environmentName asc, extensionId asc, timestamp desc"
            ],
            "metadata": {
                "azdata_cell_guid": "e4e56e1a-ab5d-427a-bc49-747e6ae34a75"
            },
            "outputs": [
                {
                    "output_type": "display_data",
                    "data": {
                        "text/plain": "<IPython.core.display.HTML object>",
                        "text/html": "<html>\n        <head>\n            \n            \n        </head>\n        <body>\n            <div><p style='padding: 10px; color: #3a87ad; background-color: #d9edf7; border-color: #bce9f1'>&nbsp;&nbsp;&nbsp;962fbf96-f15e-4d37-8f91-13cae96f4b3e@applicationinsights<br>&nbsp;*&nbsp;add_app_id_from_the_Application_Insights_portal@applicationinsights</p></div>\n        </body>\n        </html>"
                    },
                    "metadata": {}
                },
                {
                    "output_type": "display_data",
                    "data": {
                        "text/plain": "<IPython.core.display.HTML object>",
                        "text/html": "<html>\n        <head>\n            \n            \n        </head>\n        <body>\n            <div><p style='padding: 10px; color: #b94a48; background-color: #f2dede; border-color: #eed3d7'>KqlError:&nbsp;{&quot;error&quot;:{&quot;message&quot;:&quot;The&nbsp;requested&nbsp;path&nbsp;does&nbsp;not&nbsp;exist&quot;,&quot;code&quot;:&quot;PathNotFoundError&quot;,&quot;correlationId&quot;:&quot;908d8985-7923-48c8-95fa-976a43fbef4e&quot;}}</p></div>\n        </body>\n        </html>"
                    },
                    "metadata": {}
                }
            ],
            "execution_count": 31
        },
        {
            "cell_type": "markdown",
            "source": [
                "## Extension failures\r\n",
                "\r\n",
                "Event telemetry docs: \r\n",
                "* https://docs.microsoft.com/en-us/dynamics365/business-central/dev-itpro/administration/telemetry-extension-lifecycle-trace\r\n",
                "* https://docs.microsoft.com/en-us/dynamics365/business-central/dev-itpro/administration/telemetry-extension-update-trace"
            ],
            "metadata": {
                "azdata_cell_guid": "2f7e604a-0d02-484e-9bcb-a6aa148d5f0b"
            }
        },
        {
            "cell_type": "code",
            "source": [
                "%%kql\r\n",
                "//\r\n",
                "// extension event failure overview\r\n",
                "// \r\n",
                "let _aadTenantId = aadTenantId;\r\n",
                "let _environmentName = environmentName;\r\n",
                "let _extensionId = extensionId;\r\n",
                "let _startDate = startDate;\r\n",
                "let _endDate = endDate;\r\n",
                "traces\r\n",
                "| where 1==1 \r\n",
                "    and timestamp >= todatetime(_startDate)\r\n",
                "    and timestamp <= todatetime(_endDate) + totimespan(24h) - totimespan(1ms)\r\n",
                "    and (_aadTenantId == '' or customDimensions.aadTenantId == _aadTenantId)\r\n",
                "    and (_environmentName == '' or customDimensions.environmentName == _environmentName )\r\n",
                "    and (_extensionId == '' or customDimensions.extensionId == _extensionId)    \r\n",
                "    and customDimensions.eventId in ('RT0010', 'LC0011', 'LC0013', 'LC0015', 'LC0017', 'LC0019', 'LC021', 'LC023')    \r\n",
                "| extend aadTenantId=tostring( customDimensions.aadTenantId)\r\n",
                "       , environmentName=tostring( customDimensions.environmentName )\r\n",
                "       , extensionId=tostring( customDimensions.extensionId )\r\n",
                "       , eventId=tostring(customDimensions.eventId)\r\n",
                "| extend eventMessageShort=case(\r\n",
                "              eventId=='RT0010', strcat(eventId, ': Extension Update Failed (exception raised in upgrade code)')\r\n",
                "            , eventId=='LC0011', strcat(eventId, ': Extension failed to install')\r\n",
                "            , eventId=='LC0013', strcat(eventId, ': Extension failed to synchronize')            \r\n",
                "            , eventId=='LC0015', strcat(eventId, ': Extension failed to publish')            \r\n",
                "            , eventId=='LC0017', strcat(eventId, ': Extension failed to un-install')            \r\n",
                "            , eventId=='LC0019', strcat(eventId, ': Extension failed to un-publish')\r\n",
                "            , eventId=='LC0021', strcat(eventId, ': Extension failed to compile')\r\n",
                "            , eventId=='LC0023', strcat(eventId, ': Extension failed to update')\r\n",
                "            , strcat( eventId, ': Unknown message')\r\n",
                "         )\r\n",
                "| summarize count() by eventMessageShort\r\n",
                "| order by eventMessageShort\r\n",
                "| render columnchart with (title='Failure type overview', xtitle=\"\", legend=hidden)"
            ],
            "metadata": {
                "azdata_cell_guid": "9ec9b678-7d66-4758-9101-4e9e5025dfcf",
                "tags": []
            },
            "outputs": [
                {
                    "output_type": "display_data",
                    "data": {
                        "text/plain": "<IPython.core.display.HTML object>",
                        "text/html": "<html>\n        <head>\n            \n            \n        </head>\n        <body>\n            <div><p style='padding: 10px; color: #3a87ad; background-color: #d9edf7; border-color: #bce9f1'>&nbsp;&nbsp;&nbsp;962fbf96-f15e-4d37-8f91-13cae96f4b3e@applicationinsights<br>&nbsp;*&nbsp;add_app_id_from_the_Application_Insights_portal@applicationinsights</p></div>\n        </body>\n        </html>"
                    },
                    "metadata": {}
                },
                {
                    "output_type": "display_data",
                    "data": {
                        "text/plain": "<IPython.core.display.HTML object>",
                        "text/html": "<html>\n        <head>\n            \n            \n        </head>\n        <body>\n            <div><p style='padding: 10px; color: #b94a48; background-color: #f2dede; border-color: #eed3d7'>KqlError:&nbsp;{&quot;error&quot;:{&quot;message&quot;:&quot;The&nbsp;requested&nbsp;path&nbsp;does&nbsp;not&nbsp;exist&quot;,&quot;code&quot;:&quot;PathNotFoundError&quot;,&quot;correlationId&quot;:&quot;99ca27f6-49dc-4670-820c-f63f3a6ca38b&quot;}}</p></div>\n        </body>\n        </html>"
                    },
                    "metadata": {}
                }
            ],
            "execution_count": 32
        },
        {
            "cell_type": "code",
            "source": [
                "%%kql\r\n",
                "//\r\n",
                "// top 100 extension event failure details\r\n",
                "// \r\n",
                "let _aadTenantId = aadTenantId;\r\n",
                "let _environmentName = environmentName;\r\n",
                "let _extensionId = extensionId;\r\n",
                "let _startDate = startDate;\r\n",
                "let _endDate = endDate;\r\n",
                "traces\r\n",
                "| where 1==1 \r\n",
                "    and timestamp >= todatetime(_startDate)\r\n",
                "    and timestamp <= todatetime(_endDate) + totimespan(24h) - totimespan(1ms)\r\n",
                "    and (_aadTenantId == '' or customDimensions.aadTenantId == _aadTenantId)\r\n",
                "    and (_environmentName == '' or customDimensions.environmentName == _environmentName )\r\n",
                "    and (_extensionId == '' or customDimensions.extensionId == _extensionId)\r\n",
                "    and customDimensions.eventId in ('RT0010', 'LC0011', 'LC0013', 'LC0015', 'LC0017', 'LC0019', 'LC021', 'LC023')    \r\n",
                "| extend aadTenantId=tostring( customDimensions.aadTenantId)\r\n",
                "       , environmentName=tostring( customDimensions.environmentName )\r\n",
                "       , extensionId=tostring( customDimensions.extensionId )\r\n",
                "       , eventId=tostring(customDimensions.eventId)\r\n",
                "       , extensionName=tostring(customDimensions.extensionName)\r\n",
                "| extend eventMessageShort=case(\r\n",
                "              eventId=='RT0010', strcat(eventId, ': Extension Update Failed (exception raised in upgrade code)')\r\n",
                "            , eventId=='LC0011', strcat(eventId, ': Extension failed to install')\r\n",
                "            , eventId=='LC0013', strcat(eventId, ': Extension failed to synchronize')            \r\n",
                "            , eventId=='LC0015', strcat(eventId, ': Extension failed to publish')            \r\n",
                "            , eventId=='LC0017', strcat(eventId, ': Extension failed to un-install')            \r\n",
                "            , eventId=='LC0019', strcat(eventId, ': Extension failed to un-publish')\r\n",
                "            , eventId=='LC0021', strcat(eventId, ': Extension failed to compile')\r\n",
                "            , eventId=='LC0023', strcat(eventId, ': Extension failed to update')\r\n",
                "            , strcat( eventId, ': Unknown message')\r\n",
                "         )\r\n",
                "| summarize count() by aadTenantId, environmentName, extensionId, extensionName, eventMessageShort\r\n",
                "| order by count_ desc, aadTenantId asc, environmentName asc, extensionId asc, extensionName asc, eventMessageShort asc\r\n",
                "| limit 100"
            ],
            "metadata": {
                "azdata_cell_guid": "0b53c769-10f8-4343-a89f-fc4cd110d0fa"
            },
            "outputs": [
                {
                    "output_type": "display_data",
                    "data": {
                        "text/plain": "<IPython.core.display.HTML object>",
                        "text/html": "<html>\n        <head>\n            \n            \n        </head>\n        <body>\n            <div><p style='padding: 10px; color: #3a87ad; background-color: #d9edf7; border-color: #bce9f1'>&nbsp;&nbsp;&nbsp;962fbf96-f15e-4d37-8f91-13cae96f4b3e@applicationinsights<br>&nbsp;*&nbsp;add_app_id_from_the_Application_Insights_portal@applicationinsights</p></div>\n        </body>\n        </html>"
                    },
                    "metadata": {}
                },
                {
                    "output_type": "display_data",
                    "data": {
                        "text/plain": "<IPython.core.display.HTML object>",
                        "text/html": "<html>\n        <head>\n            \n            \n        </head>\n        <body>\n            <div><p style='padding: 10px; color: #b94a48; background-color: #f2dede; border-color: #eed3d7'>KqlError:&nbsp;{&quot;error&quot;:{&quot;message&quot;:&quot;The&nbsp;requested&nbsp;path&nbsp;does&nbsp;not&nbsp;exist&quot;,&quot;code&quot;:&quot;PathNotFoundError&quot;,&quot;correlationId&quot;:&quot;5193552e-fd88-462b-bbfc-afbde0dc726b&quot;}}</p></div>\n        </body>\n        </html>"
                    },
                    "metadata": {}
                }
            ],
            "execution_count": 33
        }
    ]
}